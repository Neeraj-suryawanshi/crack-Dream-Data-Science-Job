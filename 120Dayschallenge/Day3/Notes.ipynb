{
 "cells": [
  {
   "cell_type": "markdown",
   "metadata": {},
   "source": [
    " # Python Basics Day 3"
   ]
  },
  {
   "cell_type": "markdown",
   "metadata": {},
   "source": [
    "# Topics\n",
    "- 1.Dictionary\n",
    "- 2.conditional\n",
    "- 3.loop"
   ]
  },
  {
   "cell_type": "markdown",
   "metadata": {},
   "source": [
    "\n",
    "## Dictionary\n",
    "\n",
    "A dictionary in programming is a collection of key-value pairs. It allows you to store and retrieve values using a unique key associated with each value. \n",
    "\n",
    "### Example\n",
    "\n",
    "In a real-life scenario, think of a dictionary as an actual dictionary where words (keys) are associated with their definitions (values). For instance:\n",
    "- **Key:** \"Python\"\n",
    "  - **Value:** \"A high-level programming language\"\n",
    "- **Key:** \"Sculpture\"\n",
    "  - **Value:** \"The art of making two- or three-dimensional representative or abstract forms\"\n"
   ]
  },
  {
   "cell_type": "markdown",
   "metadata": {},
   "source": [
    "## Conditional:\n",
    "\n",
    "A conditional is a programming construct that allows a program to make decisions and execute different blocks of code based on whether a specified condition evaluates to true or false.\n",
    "\n",
    "Real-life Example:\n",
    "\n",
    "In everyday life, a conditional is like deciding whether to carry an umbrella based on the weather forecast. If the forecast predicts rain (condition true), you take an umbrella; otherwise, you don't. This decision-making process is analogous to a conditional statement in programming."
   ]
  },
  {
   "cell_type": "markdown",
   "metadata": {},
   "source": [
    "## example:"
   ]
  },
  {
   "cell_type": "code",
   "execution_count": 2,
   "metadata": {},
   "outputs": [
    {
     "data": {
      "text/plain": [
       "'\\nweather_forecast = \"rainy\"\\n\\nif weather_forecast == \"rainy\":\\n    take_umbrella()\\nelse:\\n    enjoy_sunny_day()\\n\\n'"
      ]
     },
     "execution_count": 2,
     "metadata": {},
     "output_type": "execute_result"
    }
   ],
   "source": [
    "\"\"\"\n",
    "weather_forecast = \"rainy\"\n",
    "\n",
    "if weather_forecast == \"rainy\":\n",
    "    take_umbrella()\n",
    "else:\n",
    "    enjoy_sunny_day()\n",
    "\n",
    "\"\"\""
   ]
  },
  {
   "cell_type": "markdown",
   "metadata": {},
   "source": [
    "## loop"
   ]
  },
  {
   "cell_type": "markdown",
   "metadata": {},
   "source": [
    "**A loop** is a programming construct that allows a set of instructions to be repeated multiple times.\n",
    "\n",
    "**Real-life example:**\n",
    "- **Scenario:** Imagine you are folding laundry.\n",
    "  - **Loop Equivalent:** Folding each piece of clothing until the entire pile is folded.\n",
    "\n",
    "```python\n",
    "# Example loop in code (for illustration purposes only)\n",
    "for piece in laundry_pile:\n",
    "    fold(piece)\n"
   ]
  }
 ],
 "metadata": {
  "kernelspec": {
   "display_name": "Python 3",
   "language": "python",
   "name": "python3"
  },
  "language_info": {
   "codemirror_mode": {
    "name": "ipython",
    "version": 3
   },
   "file_extension": ".py",
   "mimetype": "text/x-python",
   "name": "python",
   "nbconvert_exporter": "python",
   "pygments_lexer": "ipython3",
   "version": "3.8.0"
  }
 },
 "nbformat": 4,
 "nbformat_minor": 2
}
