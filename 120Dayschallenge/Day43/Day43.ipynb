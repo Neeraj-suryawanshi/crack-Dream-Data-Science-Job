{
 "cells": [
  {
   "cell_type": "markdown",
   "metadata": {},
   "source": [
    "# Day 43\n",
    "\n",
    "# Topics\n",
    "\n",
    " 1. R squared Adjusted R squared\n",
    " 2. MSE,MAE RMSE\n",
    " 3. Simple Linear Regression With Python\n",
    " 4. Multiple Linear Regression\n",
    "\n",
    "\n",
    " \n",
    " \n",
    "\n",
    "\n",
    "\n",
    "\n"
   ]
  }
 ],
 "metadata": {
  "language_info": {
   "name": "python"
  }
 },
 "nbformat": 4,
 "nbformat_minor": 2
}
