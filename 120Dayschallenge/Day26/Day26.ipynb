{
 "cells": [
  {
   "cell_type": "markdown",
   "metadata": {},
   "source": [
    "# Day 26\n",
    "\n",
    "# Topics\n",
    "\n",
    " 1.  Introduction to Statistics\n",
    " 2.  Types of Statistics\n",
    " 3.  Types of Data\n",
    " 4.  Levels of Measurement\n",
    "\n",
    " \n",
    "\n",
    "\n",
    " \n",
    "\n",
    " "
   ]
  }
 ],
 "metadata": {
  "language_info": {
   "name": "python"
  }
 },
 "nbformat": 4,
 "nbformat_minor": 2
}
