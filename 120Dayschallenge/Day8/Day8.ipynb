{
 "cells": [
  {
   "cell_type": "markdown",
   "metadata": {},
   "source": [
    "# Day 8\n",
    "\n",
    "# Topics\n",
    "\n",
    " 1. Python Task 1\n",
    "\n",
    " 2. Python Task 2\n",
    "\n",
    "- Note: Please ensure that you have completed learning from Day 1 to Day 7 before attempting this quiz and the assignments; otherwise, it may not be beneficial. \n",
    "Keep learning and keep growing.\n",
    "\n",
    "# Todays Motivation: \n",
    "\"Your potential is endless; don't limit your challenges, challenge your limits.\"\n",
    "\n"
   ]
  }
 ],
 "metadata": {
  "language_info": {
   "name": "python"
  }
 },
 "nbformat": 4,
 "nbformat_minor": 2
}
