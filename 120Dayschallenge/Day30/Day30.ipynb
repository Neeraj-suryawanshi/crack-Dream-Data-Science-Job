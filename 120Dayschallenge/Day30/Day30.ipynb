{
 "cells": [
  {
   "cell_type": "markdown",
   "metadata": {},
   "source": [
    "# Day 30\n",
    "\n",
    "# Topics\n",
    "\n",
    " 1.  Estimate\n",
    " 2.  Hypothesis Testing Mechanism\n",
    " 3.  P value\n",
    " 4.  Z Test with Examples\n",
    " 5.  Student T Distribution\n",
    " 6.  T Stats T Test\n",
    " \n",
    " \n",
    " \n",
    "\n",
    "\n",
    " \n",
    "\n",
    " "
   ]
  }
 ],
 "metadata": {
  "language_info": {
   "name": "python"
  }
 },
 "nbformat": 4,
 "nbformat_minor": 2
}
