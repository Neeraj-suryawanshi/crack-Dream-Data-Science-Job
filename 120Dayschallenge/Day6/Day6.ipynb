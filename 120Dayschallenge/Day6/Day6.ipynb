{
 "cells": [
  {
   "cell_type": "markdown",
   "metadata": {},
   "source": [
    "# Day 6"
   ]
  },
  {
   "cell_type": "markdown",
   "metadata": {},
   "source": [
    "# Topics\n",
    "\n",
    " 1. There are a total of 5 quizzes based on learning from Day 1 to Day 5.\n",
    "\n",
    " 2. There are a total of 2 assignments and solutions based on learning from Day 1 to Day 5.\n",
    "- Note: Please ensure that you have completed learning from Day 1 to Day 5 before attempting this quiz and the assignments; otherwise, it may not be beneficial. \n",
    "Keep learning and keep growing.\n"
   ]
  },
  {
   "cell_type": "markdown",
   "metadata": {},
   "source": [
    "# Todays Motivation:"
   ]
  },
  {
   "cell_type": "markdown",
   "metadata": {},
   "source": [
    "\"Believe you can, and you're halfway there.\" - Theodore Roosevelt"
   ]
  }
 ],
 "metadata": {
  "language_info": {
   "name": "python"
  }
 },
 "nbformat": 4,
 "nbformat_minor": 2
}
