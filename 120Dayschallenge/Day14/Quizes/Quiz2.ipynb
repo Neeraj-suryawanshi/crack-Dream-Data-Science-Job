{
 "cells": [
  {
   "cell_type": "markdown",
   "metadata": {},
   "source": [
    "# Quiz 2"
   ]
  },
  {
   "cell_type": "markdown",
   "metadata": {},
   "source": [
    "### 1. What is multiprocessing in Python?\n",
    "\n",
    "- A. A process of running multiple threads simultaneously within a single process.\n",
    "- B. A process of running multiple processes simultaneously within a single thread.\n",
    "- C. A process of running multiple processes simultaneously within multiple threads.\n",
    "- D. A process of running a single process within multiple threads.\n",
    "\n",
    "**Answer: B**\n",
    "Explanation: Multiprocessing in Python is the process of running multiple processes simultaneously within a single thread.\n",
    "\n",
    "### 2. What is the purpose of multiprocessing in Python?\n",
    "\n",
    "- A. To improve the performance of a program by using multiple CPUs or CPU cores.\n",
    "- B. To improve the memory utilization of a program by using multiple CPUs or CPU cores.\n",
    "- C. To improve the overall efficiency of a program by using multiple CPUs or CPU cores.\n",
    "- D. To improve the input/output operations of a program by using multiple CPUs or CPU cores.\n",
    "\n",
    "**Answer: A**\n",
    "Explanation: The primary purpose of multiprocessing in Python is to improve the performance of a program by using multiple CPUs or CPU cores.\n",
    "\n",
    "### 3. Which module is used to create and manage processes in Python?\n",
    "\n",
    "- A. multiprocessing\n",
    "- B. threading\n",
    "- C. concurrent.futures\n",
    "- D. queue\n",
    "\n",
    "**Answer: A**\n",
    "Explanation: The `multiprocessing` module is used to create and manage processes in Python.\n",
    "\n",
    "### 4. What is a process pool in multiprocessing?\n",
    "\n",
    "- A. A group of threads that share the same set of variables.\n",
    "- B. A group of processes that share the same set of variables.\n",
    "- C. A set of processes that can be executed concurrently to perform a specific task.\n",
    "- D. A set of threads that can be executed concurrently to perform a specific task.\n",
    "\n",
    "**Answer: C**\n",
    "Explanation: A process pool is a set of processes that can be executed concurrently to perform a specific task.\n",
    "\n",
    "### 5. Which method is used to start a new process in Python?\n",
    "\n",
    "- A. start()\n",
    "- B. run()\n",
    "- C. create()\n",
    "- D. begin()\n",
    "\n",
    "**Answer: A**\n",
    "Explanation: The `start()` method is used to start a new process in Python.\n",
    "\n",
    "### 6. What is the difference between multiprocessing and multithreading in Python?\n",
    "\n",
    "- A. Multithreading runs multiple threads simultaneously within a single process, while multiprocessing runs multiple processes simultaneously within a single thread.\n",
    "- B. Multithreading runs multiple processes simultaneously within a single thread, while multiprocessing runs multiple threads simultaneously within a single process.\n",
    "- C. Multithreading and multiprocessing are the same thing.\n",
    "- D. Multiprocessing is used for CPU-bound tasks, while multithreading is used for I/O-bound tasks.\n",
    "\n",
    "**Answer: A**\n",
    "Explanation: The primary difference is that multiprocessing runs multiple processes simultaneously within a single thread, while multithreading runs multiple threads simultaneously within a single process.\n"
   ]
  }
 ],
 "metadata": {
  "kernelspec": {
   "display_name": "base",
   "language": "python",
   "name": "python3"
  },
  "language_info": {
   "codemirror_mode": {
    "name": "ipython",
    "version": 3
   },
   "file_extension": ".py",
   "mimetype": "text/x-python",
   "name": "python",
   "nbconvert_exporter": "python",
   "pygments_lexer": "ipython3",
   "version": "3.11.5"
  }
 },
 "nbformat": 4,
 "nbformat_minor": 2
}
