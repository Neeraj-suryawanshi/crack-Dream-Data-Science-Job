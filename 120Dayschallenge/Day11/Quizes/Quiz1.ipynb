{
 "cells": [
  {
   "cell_type": "markdown",
   "metadata": {},
   "source": [
    "# Quiz 1"
   ]
  },
  {
   "cell_type": "markdown",
   "metadata": {},
   "source": [
    "### 1. Which among the following best defines abstraction?\n",
    "\n",
    "- A. Hiding the implementation\n",
    "- B. Showing the important data\n",
    "- C. Hiding the important data\n",
    "- D. Hiding the implementation and showing only the features\n",
    "\n",
    "**Answer:** A. Hiding the implementation\n",
    "\n",
    "**Explanation:** Abstraction includes hiding the implementation part and showing only the required data and features to the user. It is done to hide the implementation complexity and details from the user and to provide a good interface in programming.\n",
    "\n",
    "### 2. Class is ___ abstraction.\n",
    "\n",
    "- A. Object\n",
    "- B. Logical\n",
    "- C. Real\n",
    "- D. Hypothetical\n",
    "\n",
    "**Answer:** B. Logical\n",
    "\n",
    "**Explanation:** Class is a logical abstraction because it provides a logical structure for all of its objects, giving an overview of the features of an object.\n",
    "\n",
    "### 3. Which among the following can be viewed as a combination of abstraction of data and code?\n",
    "\n",
    "- A. class\n",
    "- B. object\n",
    "- C. inheritance\n",
    "- D. interfaces\n",
    "\n",
    "**Answer:** A. class\n",
    "\n",
    "**Explanation:** Class in object-oriented programming is a blueprint or template for creating objects. It combines the abstraction of data (attributes or properties) and behavior (methods) into a single logical unit.\n",
    "\n",
    "### 4. Encapsulation and abstraction differ as\n",
    "\n",
    "- A. Can be used any way\n",
    "- B. Hiding and Binding respectively\n",
    "- C. Binding and Hiding respectively\n",
    "- D. Hiding and hiding respectively\n",
    "\n",
    "**Answer:** C. Binding and Hiding respectively\n",
    "\n",
    "**Explanation:** Encapsulation is data binding, where we combine similar types of data and functions together. Abstraction involves hiding the complex code.\n",
    "\n",
    "### 5. Hiding the implementation complexity can\n",
    "\n",
    "- A. Provide better features\n",
    "- B. Make the programming complex\n",
    "- C. Provide more number of features\n",
    "- D. Make the programming easy\n",
    "\n",
    "**Answer:** D. Make the programming easy\n",
    "\n",
    "**Explanation:** Hiding the implementation complexity makes programming easier. Developers can use complex functions without knowing their internal workings.\n",
    "\n",
    "### 6. Data abstraction is nothing but the combination of ………..\n",
    "\n",
    "- A. hiding and showing\n",
    "- B. abstract class and interface\n",
    "- C. unnecessary information\n",
    "- D. none of the above\n",
    "\n",
    "**Answer:** B. abstract class and interface\n",
    "\n",
    "**Explanation:** Data abstraction involves combining the features of an abstract class and an interface, where objects cannot be instantiated directly in either.\n"
   ]
  },
  {
   "cell_type": "markdown",
   "metadata": {},
   "source": []
  }
 ],
 "metadata": {
  "kernelspec": {
   "display_name": "base",
   "language": "python",
   "name": "python3"
  },
  "language_info": {
   "codemirror_mode": {
    "name": "ipython",
    "version": 3
   },
   "file_extension": ".py",
   "mimetype": "text/x-python",
   "name": "python",
   "nbconvert_exporter": "python",
   "pygments_lexer": "ipython3",
   "version": "3.11.5"
  }
 },
 "nbformat": 4,
 "nbformat_minor": 2
}
