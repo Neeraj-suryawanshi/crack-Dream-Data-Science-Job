{
 "cells": [
  {
   "cell_type": "markdown",
   "metadata": {},
   "source": [
    "# Day 11\n",
    "\n",
    "# Topics\n",
    "\n",
    " 1. Buffered Read And Write \n",
    " 2. File reading and writing \n",
    " 3. logging in python \n",
    " 4. Working With Files \n",
    " 5. modules and package \n",
    "\n"
   ]
  }
 ],
 "metadata": {
  "kernelspec": {
   "display_name": "base",
   "language": "python",
   "name": "python3"
  },
  "language_info": {
   "codemirror_mode": {
    "name": "ipython",
    "version": 3
   },
   "file_extension": ".py",
   "mimetype": "text/x-python",
   "name": "python",
   "nbconvert_exporter": "python",
   "pygments_lexer": "ipython3",
   "version": "3.11.5"
  }
 },
 "nbformat": 4,
 "nbformat_minor": 2
}
