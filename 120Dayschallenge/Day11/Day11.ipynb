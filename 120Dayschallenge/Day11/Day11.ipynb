{
 "cells": [
  {
   "cell_type": "markdown",
   "metadata": {},
   "source": [
    "# Day 10\n",
    "\n",
    "# Topics\n",
    "\n",
    " 1. There are a total of 5 quizzes based on learning from Day 1 to Day 5.\n",
    " 2. There are a total of 2 assignments and solutions based on learning from Day 1 to Day \n",
    "\n",
    "\n"
   ]
  }
 ],
 "metadata": {
  "language_info": {
   "name": "python"
  }
 },
 "nbformat": 4,
 "nbformat_minor": 2
}
