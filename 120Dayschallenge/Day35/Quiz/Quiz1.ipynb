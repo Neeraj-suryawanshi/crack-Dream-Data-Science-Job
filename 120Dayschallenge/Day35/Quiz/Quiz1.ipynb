{
 "cells": [
  {
   "cell_type": "markdown",
   "metadata": {},
   "source": [
    "# Quiz 1"
   ]
  },
  {
   "cell_type": "markdown",
   "metadata": {},
   "source": [
    "1. **What is the key difference between Artificial Intelligence (AI) and Machine Learning (ML)?**\n",
    "   - AI is a subset of ML\n",
    "   - ML is a subset of AI\n",
    "   - AI and ML are the same thing\n",
    "   - AI and ML are completely unrelated\n",
    "\n",
    "   **Answer:** ML is a subset of AI\n",
    "\n",
    "   **Explanation:** AI is the broader field focused on creating intelligent machines, while ML is a subset of AI that involves training machines to learn from data.\n",
    "\n",
    "2. **Which type of learning requires labeled data for training?**\n",
    "   - Supervised Learning\n",
    "   - Unsupervised Learning\n",
    "   - Semi-Supervised Learning\n",
    "   - Reinforcement Learning\n",
    "\n",
    "   **Answer:** Supervised Learning\n",
    "\n",
    "   **Explanation:** In supervised learning, the machine is trained on labeled data, where inputs are associated with corresponding outputs.\n",
    "\n",
    "3. **Which type of learning does not require labeled data for training?**\n",
    "   - Supervised Learning\n",
    "   - Unsupervised Learning\n",
    "   - Semi-Supervised Learning\n",
    "   - Reinforcement Learning\n",
    "\n",
    "   **Answer:** Unsupervised Learning\n",
    "\n",
    "   **Explanation:** Unsupervised learning does not use labeled data; the machine must find patterns and relationships on its own.\n",
    "\n",
    "4. **Which type of learning uses both labeled and unlabeled data for training?**\n",
    "   - Supervised Learning\n",
    "   - Unsupervised Learning\n",
    "   - Semi-Supervised Learning\n",
    "   - Reinforcement Learning\n",
    "\n",
    "   **Answer:** Semi-Supervised Learning\n",
    "\n",
    "   **Explanation:** Semi-supervised learning involves using a combination of labeled and unlabeled data for training.\n",
    "\n",
    "5. **What is the purpose of the validation set in machine learning?**\n",
    "   - To train the machine learning model\n",
    "   - To test the machine learning model\n",
    "   - To evaluate the machine learning model's performance during training\n",
    "   - To evaluate the machine learning model's performance on new, unseen data\n",
    "\n",
    "   **Answer:** To evaluate the machine learning model's performance during training\n",
    "\n",
    "   **Explanation:** The validation set is used during training to assess the model's performance and make adjustments.\n",
    "\n",
    "6. **What is the purpose of the test set in machine learning?**\n",
    "   - To train the machine learning model\n",
    "   - To validate the machine learning model\n",
    "   - To evaluate the machine learning model's performance during training\n",
    "   - To evaluate the machine learning model's performance on new, unseen data\n",
    "\n",
    "   **Answer:** To evaluate the machine learning model's performance on new, unseen data\n",
    "\n",
    "   **Explanation:** The test set is used to assess the model's performance on data it has never encountered, providing an unbiased evaluation.\n"
   ]
  }
 ],
 "metadata": {
  "kernelspec": {
   "display_name": "base",
   "language": "python",
   "name": "python3"
  },
  "language_info": {
   "codemirror_mode": {
    "name": "ipython",
    "version": 3
   },
   "file_extension": ".py",
   "mimetype": "text/x-python",
   "name": "python",
   "nbconvert_exporter": "python",
   "pygments_lexer": "ipython3",
   "version": "3.11.5"
  }
 },
 "nbformat": 4,
 "nbformat_minor": 2
}
