{
 "cells": [
  {
   "cell_type": "markdown",
   "metadata": {},
   "source": [
    "# Day 35\n",
    "\n",
    "\n",
    "# Topics\n",
    "\n",
    " 1.  AI vs ML vs DL vs DS.\n",
    " 2.  Supervised, Unsupervised Reinforcement Learning\n",
    " 3.  Train, Test Validation\n",
    "\n"
   ]
  }
 ],
 "metadata": {
  "language_info": {
   "name": "python"
  }
 },
 "nbformat": 4,
 "nbformat_minor": 2
}
