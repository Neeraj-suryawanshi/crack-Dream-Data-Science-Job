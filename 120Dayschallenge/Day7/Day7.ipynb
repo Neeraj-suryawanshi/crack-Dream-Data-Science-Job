{
 "cells": [
  {
   "cell_type": "markdown",
   "metadata": {},
   "source": [
    "# Day 7"
   ]
  },
  {
   "cell_type": "markdown",
   "metadata": {},
   "source": [
    "# Topics\n",
    "\n",
    " 1. Genrater Funcation\n",
    "\n",
    " 2. object orinted concepts part -1 \n",
    "\n",
    " "
   ]
  },
  {
   "cell_type": "markdown",
   "metadata": {},
   "source": [
    "# Todays Motivation:"
   ]
  },
  {
   "cell_type": "markdown",
   "metadata": {},
   "source": [
    "Stay positive, stay focused, and tackle each challenge with confidence. You have the strength within you to overcome anything that comes your way. Embrace the day with determination and a positive mindset!\n",
    "-                                                        @anil_rupnar\n",
    "-                                                        #YouGotThis #StayMotivated"
   ]
  },
  {
   "cell_type": "markdown",
   "metadata": {},
   "source": []
  }
 ],
 "metadata": {
  "language_info": {
   "name": "python"
  }
 },
 "nbformat": 4,
 "nbformat_minor": 2
}
