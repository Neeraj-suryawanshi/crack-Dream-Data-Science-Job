{
 "cells": [
  {
   "cell_type": "markdown",
   "metadata": {},
   "source": [
    " # Python Basics Day 1"
   ]
  },
  {
   "cell_type": "markdown",
   "metadata": {},
   "source": [
    "# Topics\n",
    "- 1.Function \n",
    "- 2.variable\n",
    "- 3.Data types[string,int,boolen,complex number]\n",
    "- 4.exapmle of slicing & indexing \n",
    "- 5.string in built functions"
   ]
  },
  {
   "cell_type": "markdown",
   "metadata": {},
   "source": [
    "# Function in Python:\n",
    "\n",
    "## Definition:\n",
    "A function in Python is a reusable block of code that performs a specific task, and it can take input parameters and return a value.\n",
    "\n",
    "**Real-life Example:** Think of a function like a recipe in a cookbook. The recipe (function) takes specific ingredients (input parameters), follows a set of instructions (code block), and produces a dish (output value). You can use the same recipe to cook different meals by changing the ingredients, just as you can use a function with different inputs to perform various tasks in your code.\n"
   ]
  },
  {
   "cell_type": "markdown",
   "metadata": {},
   "source": [
    "# Function in Python:\n",
    "\n",
    "## Definition:\n",
    "A function in Python is a reusable block of code that performs a specific task, and it can take input parameters and return a value.\n",
    "\n",
    "**Real-life Example:** Think of a function like a recipe in a cookbook. The recipe (function) takes specific ingredients (input parameters), follows a set of instructions (code block), and produces a dish (output value). You can use the same recipe to cook different meals by changing the ingredients, just as you can use a function with different inputs to perform various tasks in your code.\n"
   ]
  },
  {
   "cell_type": "markdown",
   "metadata": {},
   "source": [
    "# Variable:\n",
    "\n",
    "**Definition:** A variable is a symbolic name for a value in a program. It acts as a placeholder to store and represent data.\n",
    "\n",
    "**Real-life Example:** Think of a variable as a container in your kitchen. You can label a container \"sugar\" to store sugar and another \"flour\" to store flour. The containers (variables) allow you to organize and refer to specific items (values) easily without knowing the details of what's inside.\n"
   ]
  },
  {
   "cell_type": "markdown",
   "metadata": {},
   "source": [
    "### Data Types:\n",
    "\n",
    "**String:**\n",
    "- **Definition:** A sequence of characters, typically used to represent text.\n",
    "- **Real-life Example:** A person's name, like \"John\" or a sentence like \"Hello, World!\"\n",
    "\n",
    "**Integer:**\n",
    "- **Definition:** Whole numbers without decimal points.\n",
    "- **Real-life Example:** The number of apples in a basket, like 5 apples.\n",
    "\n",
    "**Boolean:**\n",
    "- **Definition:** Represents truth values - either True or False.\n",
    "- **Real-life Example:** Whether a light switch is on (True) or off (False).\n",
    "\n",
    "**Complex Number:**\n",
    "- **Definition:** A number with both a real part and an imaginary part.\n",
    "- **Real-life Example:** Used in scientific and engineering calculations involving electrical circuits or fluid dynamics.\n"
   ]
  },
  {
   "cell_type": "markdown",
   "metadata": {},
   "source": [
    "## Slicing & Indexing:\n",
    "\n",
    "**Definition:** Indexing refers to accessing individual elements in a sequence, like a list or string. Slicing involves extracting a portion or subset of the sequence.\n",
    "\n",
    "**Real-life Example:** Think of a string of numbers on a ruler. Each number represents a position, and you can point to or \"index\" a specific number to identify a position. If you want to measure a specific length, you can \"slice\" from one number to another, extracting only that portion of the ruler.\n"
   ]
  },
  {
   "cell_type": "markdown",
   "metadata": {},
   "source": [
    "# String Built-in Functions:\n",
    "\n",
    "**Definition:** String built-in functions are pre-defined operations that can be performed on strings in programming. They help manipulate and work with text data.\n",
    "\n",
    "**Popular Functions:**\n",
    "1. `len()`: Returns the length of a string.\n",
    "2. `upper()`: Converts a string to uppercase.\n",
    "3. `lower()`: Converts a string to lowercase.\n",
    "4. `replace()`: Replaces a substring with another substring.\n",
    "5. `find()`: Returns the index of the first occurrence of a substring.\n",
    "6. `split()`: Splits a string into a list of substrings based on a specified delimiter.\n",
    "\n",
    "**Real-life Example:** Think of string functions like tools in a kitchen. You have a knife to cut (split) vegetables, a measuring cup to determine length (len), and seasoning options to change the flavor (upper/lower/replace). Each tool (function) serves a specific purpose in preparing your dish (program).\n"
   ]
  },
  {
   "cell_type": "markdown",
   "metadata": {},
   "source": []
  }
 ],
 "metadata": {
  "kernelspec": {
   "display_name": "base",
   "language": "python",
   "name": "python3"
  },
  "language_info": {
   "codemirror_mode": {
    "name": "ipython",
    "version": 3
   },
   "file_extension": ".py",
   "mimetype": "text/x-python",
   "name": "python",
   "nbconvert_exporter": "python",
   "pygments_lexer": "ipython3",
   "version": "3.9.7"
  }
 },
 "nbformat": 4,
 "nbformat_minor": 2
}
