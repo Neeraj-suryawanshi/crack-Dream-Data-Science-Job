{
 "cells": [
  {
   "cell_type": "markdown",
   "metadata": {},
   "source": [
    " #  Day 5\n",
    " "
   ]
  },
  {
   "cell_type": "markdown",
   "metadata": {},
   "source": [
    "# Topics\n",
    "- 1.list \n",
    "- 2.Tuple\n",
    "- 3.Set"
   ]
  },
  {
   "cell_type": "markdown",
   "metadata": {},
   "source": [
    "### List\n",
    "\n",
    "A list is a mutable, ordered collection of elements in Python.\n",
    "\n",
    "**Characteristics:**\n",
    "- **Mutable:** Elements can be added, removed, or modified.\n",
    "- **Ordered:** Elements have a specific order.\n",
    "- **Allows Duplicates:** Can contain duplicate values.\n",
    "\n",
    "**Example:**\n",
    "A shopping list:\n",
    "- Eggs\n",
    "- Milk\n",
    "- Bread\n",
    "\n",
    "---\n",
    "\n"
   ]
  },
  {
   "cell_type": "markdown",
   "metadata": {},
   "source": [
    "# Tuple\n",
    "A tuple is an immutable ordered collection of elements.\n",
    "\n",
    "**Characteristics:**\n",
    "- Immutable: Elements cannot be modified after creation.\n",
    "- Ordered: Maintains the order of elements.\n",
    "\n",
    "**Example:**\n",
    "```python\n",
    "coordinates = (3, 4)\n"
   ]
  },
  {
   "cell_type": "markdown",
   "metadata": {},
   "source": [
    "### Set\n",
    "\n",
    "A set is a mutable, unordered collection of unique elements in Python.\n",
    "\n",
    "**Characteristics:**\n",
    "- **Mutable:** Elements can be added or removed.\n",
    "- **Unordered:** No specific order of elements.\n",
    "- **Unique Elements:** No duplicates allowed.\n",
    "\n",
    "**Example:**\n",
    "A set of unique colors:\n",
    "- Red\n",
    "- Green\n",
    "- Blue\n"
   ]
  }
 ],
 "metadata": {
  "language_info": {
   "name": "python"
  }
 },
 "nbformat": 4,
 "nbformat_minor": 2
}
