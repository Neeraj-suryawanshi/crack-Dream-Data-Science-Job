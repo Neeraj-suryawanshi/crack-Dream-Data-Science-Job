{
 "cells": [
  {
   "cell_type": "markdown",
   "metadata": {},
   "source": [
    "# Day 33\n",
    "\n",
    "\n",
    "# Topics\n",
    "\n",
    " 1.  F - Distribution.\n",
    " 2.  Variance ratio test.\n",
    " 3.  F test with pyhton.\n",
    "\n",
    " \n"
   ]
  }
 ],
 "metadata": {
  "language_info": {
   "name": "python"
  }
 },
 "nbformat": 4,
 "nbformat_minor": 2
}
