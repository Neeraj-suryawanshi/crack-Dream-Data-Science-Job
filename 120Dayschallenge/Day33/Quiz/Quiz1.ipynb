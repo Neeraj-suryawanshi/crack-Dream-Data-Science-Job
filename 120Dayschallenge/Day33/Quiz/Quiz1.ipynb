{
 "cells": [
  {
   "cell_type": "markdown",
   "metadata": {},
   "source": [
    "# Quiz 1"
   ]
  },
  {
   "cell_type": "markdown",
   "metadata": {},
   "source": [
    "1. **Which of the following is NOT an assumption to use ANOVA?**\n",
    "   - Homogeneity of variance\n",
    "   - Independence of observations\n",
    "   - Normality of residuals\n",
    "   - Equidistant data points\n",
    "\n",
    "   **Answer:** Equidistant data points\n",
    "\n",
    "   **Explanation:** The assumption of equidistant data points is not required for ANOVA.\n",
    "\n",
    "2. **Which type of ANOVA is appropriate when there is only one factor being tested?**\n",
    "   - One-Way ANOVA\n",
    "   - Two-Way ANOVA\n",
    "   - Three-Way ANOVA\n",
    "   - Factorial ANOVA\n",
    "\n",
    "   **Answer:** One-Way ANOVA\n",
    "\n",
    "   **Explanation:** One-Way ANOVA is used when there is only one factor being tested.\n",
    "\n",
    "3. **Which term in the ANOVA table represents the amount of variation due to differences between groups?**\n",
    "   - Within Groups\n",
    "   - Total\n",
    "   - Between Groups\n",
    "   - Error\n",
    "\n",
    "   **Answer:** Between Groups\n",
    "\n",
    "   **Explanation:** The Between Groups term in the ANOVA table represents the amount of variation due to differences between groups.\n",
    "\n",
    "4. **Which Python library can be used to perform ANOVA?**\n",
    "   - NumPy\n",
    "   - Pandas\n",
    "   - SciPy\n",
    "   - Matplotlib\n",
    "\n",
    "   **Answer:** SciPy\n",
    "\n",
    "   **Explanation:** The SciPy library in Python can be used to perform ANOVA calculations.\n",
    "\n",
    "5. **What percentage of the total variation in the response variable is explained by the differences between groups in ANOVA?**\n",
    "   - Between Groups Variance / Total Variance\n",
    "   - Within Groups Variance / Total Variance\n",
    "   - Within Groups Variance / Total Variance\n",
    "   - Within Groups Variance / (Between Groups Variance + Within Groups Variance)\n",
    "\n",
    "   **Answer:** Between Groups Variance / (Between Groups Variance + Within Groups Variance)\n",
    "\n",
    "   **Explanation:** The percentage of the total variation in the response variable explained by the differences between groups is calculated as the ratio of the Between Groups Variance to the Total Variance.\n",
    "\n",
    "6. **In a One-Way ANOVA with 4 groups, what degrees of freedom are associated with the Within Groups sum of squares?**\n",
    "   - 1\n",
    "   - 2\n",
    "   - 3\n",
    "   - 4\n",
    "\n",
    "   **Answer:** 3\n",
    "\n",
    "   **Explanation:** In a One-Way ANOVA with 4 groups, the degrees of freedom associated with the Within Groups sum of squares is (n-1) * (k-1) = (n-1) * (4-1) = 3 * (n-1), where n is the sample size and k is the number of groups.\n",
    "\n",
    "7. **In Python, which function from the scipy library is used to perform One-Way ANOVA calculations?**\n",
    "   - scipy.stats.ttest_ind\n",
    "   - scipy.stats.f_oneway\n",
    "   - scipy.stats.chisquare\n",
    "   - scipy.stats.mannwhitneyu\n",
    "\n",
    "   **Answer:** scipy.stats.f_oneway\n",
    "\n",
    "   **Explanation:** The scipy.stats.f_oneway function from the scipy library in Python is used to perform One-Way ANOVA calculations.\n"
   ]
  }
 ],
 "metadata": {
  "kernelspec": {
   "display_name": "base",
   "language": "python",
   "name": "python3"
  },
  "language_info": {
   "codemirror_mode": {
    "name": "ipython",
    "version": 3
   },
   "file_extension": ".py",
   "mimetype": "text/x-python",
   "name": "python",
   "nbconvert_exporter": "python",
   "pygments_lexer": "ipython3",
   "version": "3.11.5"
  }
 },
 "nbformat": 4,
 "nbformat_minor": 2
}
