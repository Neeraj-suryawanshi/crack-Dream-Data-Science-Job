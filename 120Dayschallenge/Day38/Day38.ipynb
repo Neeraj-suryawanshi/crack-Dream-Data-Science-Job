{
 "cells": [
  {
   "cell_type": "markdown",
   "metadata": {},
   "source": [
    "# Day 38\n",
    "\n",
    "# Topics\n",
    "\n",
    " 1. Data Encoding\n",
    " 2. Nominal or One Hot Encoding\n",
    " 3. Label Ordinal Encoder\n",
    " 4. Target Guided Ordinal Encoding\n",
    "\n",
    "\n",
    "\n"
   ]
  }
 ],
 "metadata": {
  "language_info": {
   "name": "python"
  }
 },
 "nbformat": 4,
 "nbformat_minor": 2
}
