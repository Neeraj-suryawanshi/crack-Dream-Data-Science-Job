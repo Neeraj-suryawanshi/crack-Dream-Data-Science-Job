{
 "cells": [
  {
   "cell_type": "markdown",
   "metadata": {},
   "source": [
    "# Quiz 1"
   ]
  },
  {
   "cell_type": "markdown",
   "metadata": {},
   "source": [
    "1. **Which of the following is true about nominal encoding?**\n",
    "   - It is used for ordinal data.\n",
    "   - It assigns numerical values to categorical data.\n",
    "   - It converts categorical data into binary values.\n",
    "   - It cannot handle datasets with multiple categorical variables.\n",
    "\n",
    "   **Answer:** It assigns numerical values to categorical data.\n",
    "\n",
    "   **Explanation:** Nominal encoding transforms categorical data by assigning a unique numerical value to each category in a feature.\n",
    "\n",
    "2. **When should you use one-hot encoding?**\n",
    "   - When the number of unique categories in a feature is less than 5.\n",
    "   - When the number of unique categories in a feature is greater than or equal to 5.\n",
    "   - When the dataset contains only numerical features.\n",
    "   - When the dataset contains both numerical and categorical features.\n",
    "\n",
    "   **Answer:** When the number of unique categories in a feature is greater than or equal to 5.\n",
    "\n",
    "   **Explanation:** One-hot encoding is preferred for features with a larger number of unique categories.\n",
    "\n",
    "3. **Which encoding technique is preferred when the categories in a feature have an inherent order or rank?**\n",
    "   - Nominal encoding\n",
    "   - One-hot encoding\n",
    "   - Binary encoding\n",
    "   - Ordinal encoding\n",
    "\n",
    "   **Answer:** Ordinal encoding\n",
    "\n",
    "   **Explanation:** Ordinal encoding is used when categories have an inherent order or rank.\n",
    "\n",
    "4. **If a dataset has 3 categorical features, each with 4 unique categories, how many new features would be created if one-hot encoding is used?**\n",
    "   - 3\n",
    "   - 4\n",
    "   - 7\n",
    "   - 12\n",
    "\n",
    "   **Answer:** 12\n",
    "\n",
    "   **Explanation:** One-hot encoding creates a binary feature for each unique category, resulting in 3 * 4 = 12 new features.\n",
    "\n",
    "5. **Sarah is working on a machine learning project and needs to encode a categorical feature that has five unique categories. Which encoding technique should she use?**\n",
    "   - Nominal encoding\n",
    "   - Ordinal encoding\n",
    "   - Binary encoding\n",
    "   - One-hot encoding\n",
    "\n",
    "   **Answer:** One-hot encoding\n",
    "\n",
    "   **Explanation:** One-hot encoding is suitable for features with a larger number of unique categories.\n",
    "\n",
    "6. **Which encoding technique is preferred for features with a large number of unique categories?**\n",
    "   - Nominal encoding\n",
    "   - Ordinal encoding\n",
    "   - Binary encoding\n",
    "   - One-hot encoding\n",
    "\n",
    "   **Answer:** One-hot encoding\n",
    "\n",
    "   **Explanation:** One-hot encoding is preferred for features with a large number of unique categories to prevent overfitting.\n",
    "\n",
    "7. **Rachel is working with a dataset that has a categorical feature with two unique categories: \"male\" and \"female.\" She wants to encode this feature so that it can be used in a machine learning model. Which of the following encoding techniques should she use?**\n",
    "   - Nominal encoding\n",
    "   - Ordinal encoding\n",
    "   - Binary encoding\n",
    "   - One-hot encoding\n",
    "\n",
    "   **Answer:** Binary encoding\n",
    "\n",
    "   **Explanation:** Binary encoding efficiently represents a categorical feature with two unique categories using binary code.\n"
   ]
  }
 ],
 "metadata": {
  "kernelspec": {
   "display_name": "base",
   "language": "python",
   "name": "python3"
  },
  "language_info": {
   "codemirror_mode": {
    "name": "ipython",
    "version": 3
   },
   "file_extension": ".py",
   "mimetype": "text/x-python",
   "name": "python",
   "nbconvert_exporter": "python",
   "pygments_lexer": "ipython3",
   "version": "3.11.5"
  }
 },
 "nbformat": 4,
 "nbformat_minor": 2
}
