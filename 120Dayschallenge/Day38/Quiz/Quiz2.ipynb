{
 "cells": [
  {
   "cell_type": "markdown",
   "metadata": {},
   "source": [
    "# Quiz 2\n"
   ]
  },
  {
   "cell_type": "markdown",
   "metadata": {},
   "source": [
    "1. **Which of the following encoding techniques is used for categorical variables with no inherent ordering?**\n",
    "   - Ordinal Encoding\n",
    "   - Label Encoding\n",
    "   - Target Guided Ordinal Encoding\n",
    "   - None of the above\n",
    "\n",
    "   **Answer:** Label Encoding\n",
    "\n",
    "   **Explanation:** Label Encoding is used for categorical variables with no inherent ordering, where each unique category is assigned a unique integer value.\n",
    "\n",
    "2. **Which encoding technique is used when there is a natural ordering between the categories of a categorical variable?**\n",
    "   - Ordinal Encoding\n",
    "   - Label Encoding\n",
    "   - Target Guided Ordinal Encoding\n",
    "   - None of the above\n",
    "\n",
    "   **Answer:** Ordinal Encoding\n",
    "\n",
    "   **Explanation:** Ordinal Encoding is used for categorical variables with a natural ordering between the categories, where the categories are assigned integer values according to their order.\n",
    "\n",
    "3. **Covariance is a measure of:**\n",
    "   - The strength of the linear relationship between two variables\n",
    "   - The degree of association between two variables\n",
    "   - The direction of the relationship between two variables\n",
    "   - All of the above\n",
    "\n",
    "   **Answer:** All of the above\n",
    "\n",
    "   **Explanation:** Covariance measures both the strength and direction of the linear relationship between two variables and is a measure of the degree of association between them.\n",
    "\n",
    "4. **Correlation check is used to:**\n",
    "   - Determine the strength of the linear relationship between two variables\n",
    "   - Determine the direction of the relationship between two variables\n",
    "   - Determine the degree of association between two variables\n",
    "   - All of the above\n",
    "\n",
    "   **Answer:** All of the above\n",
    "\n",
    "   **Explanation:** Correlation check is used to determine both the strength and direction of the linear relationship between two variables and is a measure of the degree of association between them.\n",
    "\n",
    "5. **A dataset contains a categorical variable with no natural ordering. Which encoding technique would be most appropriate for this variable?**\n",
    "   - Ordinal Encoding\n",
    "   - Label Encoding\n",
    "   - Target Guided Ordinal Encoding\n",
    "   - Covariance\n",
    "\n",
    "   **Answer:** Label Encoding\n",
    "\n",
    "   **Explanation:** Label Encoding is most appropriate for a categorical variable with no natural ordering, as each unique category can be assigned a unique integer value.\n",
    "\n",
    "6. **A dataset contains a categorical variable that is strongly associated with the target variable. Which encoding technique would be most appropriate for this variable?**\n",
    "   - Ordinal Encoding\n",
    "   - Label Encoding\n",
    "   - Target Guided Ordinal Encoding\n",
    "   - Covariance\n",
    "\n",
    "   **Answer:** Target Guided Ordinal Encoding\n",
    "\n",
    "   **Explanation:** Target Guided Ordinal Encoding would be most appropriate for a categorical variable that is strongly associated with the target variable, as it assigns ordinal values to categories based on the mean of the target variable for each category.\n",
    "\n",
    "7. **A data scientist is performing feature engineering on a dataset with categorical variables. Which technique can be used to check the degree of association between two categorical variables?**\n",
    "   - Ordinal Encoding\n",
    "   - Label Encoding\n",
    "   - Correlation Check\n",
    "   - Target Guided Ordinal Encoding\n",
    "\n",
    "   **Answer:** Correlation Check\n",
    "\n",
    "   **Explanation:** Correlation check can be used to determine the degree of association between two variables, whether they are continuous or categorical.\n"
   ]
  }
 ],
 "metadata": {
  "kernelspec": {
   "display_name": "base",
   "language": "python",
   "name": "python3"
  },
  "language_info": {
   "codemirror_mode": {
    "name": "ipython",
    "version": 3
   },
   "file_extension": ".py",
   "mimetype": "text/x-python",
   "name": "python",
   "nbconvert_exporter": "python",
   "pygments_lexer": "ipython3",
   "version": "3.11.5"
  }
 },
 "nbformat": 4,
 "nbformat_minor": 2
}
