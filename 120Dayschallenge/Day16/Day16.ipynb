{
 "cells": [
  {
   "cell_type": "markdown",
   "metadata": {},
   "source": [
    "# Day 16\n",
    "\n",
    "# Topics\n",
    "\n",
    " 1. What is Web API ? \n",
    " 2. Difference Between Api And Web Api\n",
    " 3. Rest And Soap Architecture\n",
    " 4. Restful Services\n"
   ]
  },
  {
   "cell_type": "markdown",
   "metadata": {},
   "source": []
  }
 ],
 "metadata": {
  "language_info": {
   "name": "python"
  }
 },
 "nbformat": 4,
 "nbformat_minor": 2
}
