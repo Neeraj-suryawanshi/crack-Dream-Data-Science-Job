{
 "cells": [
  {
   "cell_type": "markdown",
   "metadata": {},
   "source": [
    "# Day 28\n",
    "\n",
    "# Topics\n",
    "\n",
    " 1.  Probability Density Distribution Function\n",
    " 2.  PDF, PMF CDF\n",
    " 3.  Types of Probability Distribution\n",
    " 4.  Bernoulli Distribution\n",
    " 5.  Binomial Distribution\n",
    " 6.  Poisson Distribution\n",
    " 7.  Normal or Gaussian Distribution\n",
    " \n",
    "\n",
    "\n",
    " \n",
    "\n",
    "\n",
    " \n",
    "\n",
    " "
   ]
  },
  {
   "cell_type": "markdown",
   "metadata": {},
   "source": []
  }
 ],
 "metadata": {
  "language_info": {
   "name": "python"
  }
 },
 "nbformat": 4,
 "nbformat_minor": 2
}
