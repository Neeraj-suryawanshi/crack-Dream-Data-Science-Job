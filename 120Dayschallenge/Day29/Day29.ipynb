{
 "cells": [
  {
   "cell_type": "markdown",
   "metadata": {},
   "source": [
    "# Day 29\n",
    "\n",
    "# Topics\n",
    "\n",
    " 1.  Uniform Distribution\n",
    " 2.  Z Stats Z Table\n",
    " 3.  Central Limit Theorem\n",
    " \n",
    " \n",
    "\n",
    "\n",
    " \n",
    "\n",
    " "
   ]
  }
 ],
 "metadata": {
  "language_info": {
   "name": "python"
  }
 },
 "nbformat": 4,
 "nbformat_minor": 2
}
