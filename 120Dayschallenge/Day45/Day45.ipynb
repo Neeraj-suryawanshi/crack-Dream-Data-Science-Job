{
 "cells": [
  {
   "cell_type": "markdown",
   "metadata": {},
   "source": [
    "# Day 45\n",
    "\n",
    "# Topics\n",
    "\n",
    " 1. Elastic Net Regression\n",
    " 2. EDA with Algerian Forest Fire\n",
    " 3. Model Training for Ridge, Lasso Elastic Net\n",
    "\n",
    "\n",
    "\n",
    "\n",
    " \n",
    " \n",
    "\n",
    "\n",
    "\n",
    "\n"
   ]
  },
  {
   "cell_type": "markdown",
   "metadata": {},
   "source": []
  }
 ],
 "metadata": {
  "language_info": {
   "name": "python"
  }
 },
 "nbformat": 4,
 "nbformat_minor": 2
}
