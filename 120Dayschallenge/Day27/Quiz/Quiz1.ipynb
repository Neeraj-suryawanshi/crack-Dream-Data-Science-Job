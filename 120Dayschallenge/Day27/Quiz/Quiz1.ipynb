{
 "cells": [
  {
   "cell_type": "markdown",
   "metadata": {},
   "source": [
    "# Quiz 1"
   ]
  },
  {
   "cell_type": "markdown",
   "metadata": {},
   "source": [
    "1. **What is the measure of central tendency that is most sensitive to outliers?**\n",
    "   - Mean\n",
    "   - Median\n",
    "   - Mode\n",
    "   - None of the above\n",
    "\n",
    "   **Answer:** Mean\n",
    "\n",
    "   **Explanation:** The mean is the average of all the data points and can be heavily influenced by outliers. Median is the middle value of a dataset when arranged in order, and mode is the most frequent value.\n",
    "\n",
    "2. **Which of the following is not a measure of dispersion?**\n",
    "   - Range\n",
    "   - Variance\n",
    "   - Standard deviation\n",
    "   - Median\n",
    "\n",
    "   **Answer:** Median\n",
    "\n",
    "   **Explanation:** Median is a measure of central tendency and not a measure of dispersion. Range is the difference between the maximum and minimum values, variance is the average of the squared differences from the mean, and standard deviation is the square root of the variance.\n",
    "\n",
    "3. **What is a random variable?**\n",
    "   - A variable that has a single value\n",
    "   - A variable that can take on any value within a certain range\n",
    "   - A variable that is not affected by other variables\n",
    "   - A variable that is not used in statistical analysis\n",
    "\n",
    "   **Answer:** A variable that can take on any value within a certain range\n",
    "\n",
    "   **Explanation:** Random variables are used in probability theory and statistics to describe uncertain events. They can take on various values within a specified range.\n",
    "\n",
    "4. **Which of the following is a subset of a set?**\n",
    "   - Union\n",
    "   - Intersection\n",
    "   - Complement\n",
    "   - Cardinality\n",
    "\n",
    "   **Answer:** Intersection\n",
    "\n",
    "   **Explanation:** The intersection of two sets is the set of all elements that are in both sets. It is a subset of both sets.\n",
    "\n",
    "5. **Which of the following measures of dispersion gives us an idea about the spread of the data around the median?**\n",
    "   - Variance\n",
    "   - Standard deviation\n",
    "   - Range\n",
    "   - Interquartile range\n",
    "\n",
    "   **Answer:** Interquartile range\n",
    "\n",
    "   **Explanation:** Interquartile range (IQR) is the range between the first quartile and the third quartile of the data. It gives us an idea about the spread of the data around the median.\n",
    "\n",
    "6. **Which of the following is not a set?**\n",
    "   - {1, 2, 3}\n",
    "   - {cat, dog, bird}\n",
    "   - {blue, red, green, 4}\n",
    "   - 5\n",
    "\n",
    "   **Answer:** 5\n",
    "\n",
    "   **Explanation:** 5 is not a set. A set is a collection of distinct elements.\n",
    "\n",
    "7. **Which measure of dispersion is highly sensitive to outliers?**\n",
    "   - Variance\n",
    "   - Standard deviation\n",
    "   - Range\n",
    "   - Interquartile range\n",
    "\n",
    "   **Answer:** Variance\n",
    "\n",
    "   **Explanation:** Variance is highly sensitive to outliers. An outlier is a data point that is significantly different from other data points. When we have outliers in the data, the variance increases significantly.\n"
   ]
  },
  {
   "cell_type": "markdown",
   "metadata": {},
   "source": []
  }
 ],
 "metadata": {
  "kernelspec": {
   "display_name": "base",
   "language": "python",
   "name": "python3"
  },
  "language_info": {
   "codemirror_mode": {
    "name": "ipython",
    "version": 3
   },
   "file_extension": ".py",
   "mimetype": "text/x-python",
   "name": "python",
   "nbconvert_exporter": "python",
   "pygments_lexer": "ipython3",
   "version": "3.11.5"
  }
 },
 "nbformat": 4,
 "nbformat_minor": 2
}
