{
 "cells": [
  {
   "cell_type": "markdown",
   "metadata": {},
   "source": [
    "# Day 27\n",
    "\n",
    "# Topics\n",
    "\n",
    " 1.  Measures of Central Tendency\n",
    " 2.  Measures of Central Tendency Part 2\n",
    " 3.  Measures of Dispersion\n",
    " 4.  Measures of Dispersion Part 2\n",
    " 5.  Random Variables\n",
    " 6.  Sets\n",
    " 7.  Histogram Skewness\n",
    " 8.  Covariance Correlation\n",
    " 9.  Covariance Correlation Part 2\n",
    "\n",
    "\n",
    " \n",
    "\n",
    "\n",
    " \n",
    "\n",
    " "
   ]
  }
 ],
 "metadata": {
  "language_info": {
   "name": "python"
  }
 },
 "nbformat": 4,
 "nbformat_minor": 2
}
