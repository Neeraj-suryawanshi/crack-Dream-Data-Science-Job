{
 "cells": [
  {
   "cell_type": "markdown",
   "metadata": {},
   "source": [
    "# Day 47\n",
    "\n",
    "# Topics : \n",
    "\n",
    " 1. Logistic Regression Indepth Intuition\n",
    " 2. Logistic Regression with Regularization\n",
    " 3. Performance Metrics Confusion Matrix, Accuracy, Precision Recall\n",
    "\n",
    "\n",
    "\n",
    " \n",
    " \n",
    "\n",
    "\n",
    "\n",
    "\n"
   ]
  },
  {
   "cell_type": "markdown",
   "metadata": {},
   "source": []
  }
 ],
 "metadata": {
  "language_info": {
   "name": "python"
  }
 },
 "nbformat": 4,
 "nbformat_minor": 2
}
