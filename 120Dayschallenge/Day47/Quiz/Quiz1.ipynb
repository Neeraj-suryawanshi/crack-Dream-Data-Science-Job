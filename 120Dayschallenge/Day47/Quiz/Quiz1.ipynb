{
 "cells": [
  {
   "cell_type": "markdown",
   "metadata": {},
   "source": [
    "# Quiz 1"
   ]
  },
  {
   "cell_type": "markdown",
   "metadata": {},
   "source": [
    "### 1. Which of the following is an appropriate scenario for using logistic regression?\n",
    "\n",
    "- Predicting a continuous output variable\n",
    "- Identifying the relationship between two categorical variables\n",
    "- Estimating the value of a dependent variable given independent variables\n",
    "- Classifying observations into two or more categories\n",
    "\n",
    "**Answer:** Classifying observations into two or more categories\n",
    "\n",
    "**Explanation:** Logistic regression is a classification technique used to predict the probability of an event occurring or not occurring, based on a set of independent variables.\n",
    "\n",
    "### 2. What is the Sigmoid function used for in logistic regression?\n",
    "\n",
    "- To normalize the data\n",
    "- To transform the dependent variable\n",
    "- To transform the independent variables\n",
    "- To convert the predicted values into probabilities\n",
    "\n",
    "**Answer:** To convert the predicted values into probabilities\n",
    "\n",
    "**Explanation:** The Sigmoid function is used to map any real-valued number into a probability value between 0 and 1, which is the predicted probability of an observation belonging to a particular class.\n",
    "\n",
    "### 3. What is the ROC curve used for in logistic regression?\n",
    "\n",
    "- To evaluate the accuracy of the model\n",
    "- To visualize the trade-off between sensitivity and specificity\n",
    "- To compare the performance of two or more models\n",
    "- To identify outliers in the data\n",
    "\n",
    "**Answer:** To visualize the trade-off between sensitivity and specificity\n",
    "\n",
    "**Explanation:** The ROC (receiver operating characteristic) curve is a graphical representation of the trade-off between the true positive rate (sensitivity) and false positive rate (1 - specificity) for different probability thresholds of the logistic regression model.\n",
    "\n",
    "### 4. What is regularization used for in logistic regression?\n",
    "\n",
    "- To increase the complexity of the model\n",
    "- To decrease the complexity of the model\n",
    "- To prevent overfitting of the model\n",
    "- To identify outliers in the data\n",
    "\n",
    "**Answer:** To prevent overfitting of the model\n",
    "\n",
    "**Explanation:** Regularization is a technique used to prevent overfitting of the model by adding a penalty term to the cost function that shrinks the coefficients towards zero.\n",
    "\n",
    "### 5. How can imbalanced datasets be handled in logistic regression?\n",
    "\n",
    "- By oversampling the minority class\n",
    "- By undersampling the majority class\n",
    "- By using cost-sensitive learning\n",
    "- All of the above\n",
    "\n",
    "**Answer:** All of the above\n",
    "\n",
    "**Explanation:** Imbalanced datasets can be handled in logistic regression by oversampling the minority class, undersampling the majority class, or using cost-sensitive learning techniques that assign different misclassification costs to the different classes.\n",
    "\n",
    "### 6. Which of the following techniques can be used for feature selection in logistic regression?\n",
    "\n",
    "- Lasso regularization\n",
    "- Principal component analysis (PCA)\n",
    "- Recursive feature elimination (RFE)\n",
    "- All of the above\n",
    "\n",
    "**Answer:** All of the above\n",
    "\n",
    "**Explanation:** Lasso regularization, PCA, and RFE are all techniques that can be used for feature selection in logistic regression to reduce the number of independent variables and improve the model's performance.\n"
   ]
  }
 ],
 "metadata": {
  "kernelspec": {
   "display_name": "base",
   "language": "python",
   "name": "python3"
  },
  "language_info": {
   "codemirror_mode": {
    "name": "ipython",
    "version": 3
   },
   "file_extension": ".py",
   "mimetype": "text/x-python",
   "name": "python",
   "nbconvert_exporter": "python",
   "pygments_lexer": "ipython3",
   "version": "3.11.5"
  }
 },
 "nbformat": 4,
 "nbformat_minor": 2
}
