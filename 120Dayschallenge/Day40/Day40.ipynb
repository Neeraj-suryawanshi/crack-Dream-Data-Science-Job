{
 "cells": [
  {
   "cell_type": "markdown",
   "metadata": {},
   "source": [
    "# Day 40 \n",
    "\n",
    "# Topics\n",
    "\n",
    " 1. EDA With Red Wine Data\n",
    " 2. EDA Student Performance Indicator\n",
    " 3. EDA Forest Fires\n",
    " \n",
    "\n",
    "\n",
    "\n",
    "\n"
   ]
  },
  {
   "cell_type": "markdown",
   "metadata": {},
   "source": []
  }
 ],
 "metadata": {
  "language_info": {
   "name": "python"
  }
 },
 "nbformat": 4,
 "nbformat_minor": 2
}
