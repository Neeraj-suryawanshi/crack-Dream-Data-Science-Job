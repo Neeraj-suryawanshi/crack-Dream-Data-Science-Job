{
 "cells": [
  {
   "cell_type": "markdown",
   "metadata": {},
   "source": [
    "# Quiz 1"
   ]
  },
  {
   "cell_type": "markdown",
   "metadata": {},
   "source": [
    "### 1. What is the purpose of the try and except keywords in Python?\n",
    "\n",
    "- To handle errors and exceptions in a program.\n",
    "- To perform conditional operations.\n",
    "- To create user-defined functions.\n",
    "- To import modules.\n",
    "\n",
    "**Answer:** To handle errors and exceptions in a program.\n",
    "\n",
    "**Explanation:** The try and except keywords are used to handle errors and exceptions in a program. The try block contains the code that might raise an exception, and the except block contains the code that will handle the exception if it occurs.\n",
    "\n",
    "### 2. What happens if an exception is raised in the try block?\n",
    "\n",
    "- The except block will be executed.\n",
    "- The program will continue to run.\n",
    "- The program will stop executing.\n",
    "- None of the above.\n",
    "\n",
    "**Answer:** The except block will be executed.\n",
    "\n",
    "**Explanation:** If an exception is raised in the try block, the program will immediately jump to the except block to handle the exception. If no exception is raised, the code in the except block will not be executed.\n",
    "\n",
    "### 3. What happens if no exception is raised in the try block?\n",
    "\n",
    "- The except block will be executed.\n",
    "- The program will continue to run.\n",
    "- The program will stop executing.\n",
    "- None of the above.\n",
    "\n",
    "**Answer:** The program will continue to run.\n",
    "\n",
    "**Explanation:** If no exception is raised in the try block, the code in the except block will not be executed, and the program will continue to run normally.\n",
    "\n",
    "### 4. What is the use of the finally keyword in exception handling?\n",
    "\n",
    "- To handle exceptions and errors.\n",
    "- To specify a block of code that will be executed regardless of whether an exception was raised or not.\n",
    "- To create user-defined functions.\n",
    "- None of the above.\n",
    "\n",
    "**Answer:** To specify a block of code that will be executed regardless of whether an exception was raised or not.\n",
    "\n",
    "**Explanation:** The finally keyword can be used to specify a block of code that will be executed regardless of whether an exception was raised or not. The code in the finally block will always be executed, even if an exception is raised in the try block or if an error occurs in the except block.\n",
    "\n",
    "### 5. What is a custom exception in Python?\n",
    "\n",
    "- A built-in exception.\n",
    "- A user-defined exception.\n",
    "- Both A and B.\n",
    "- None of the above.\n",
    "\n",
    "**Answer:** A user-defined exception.\n",
    "\n",
    "**Explanation:** A custom exception in Python is a user-defined exception that can be raised and caught in the same way as built-in exceptions.\n",
    "\n",
    "### 6. Can you create a custom exception in Python?\n",
    "\n",
    "- By using the raise statement.\n",
    "- By using the assert statement.\n",
    "- Both A and B.\n",
    "- None of the above.\n",
    "\n",
    "**Answer:** By using the raise statement.\n",
    "\n",
    "**Explanation:**  To create a custom exception in Python, you need to define a new exception class that inherits from the built-in Exception class. You can then raise the custom exception by using the raise statement.\n",
    "\n",
    "\n"
   ]
  }
 ],
 "metadata": {
  "kernelspec": {
   "display_name": "base",
   "language": "python",
   "name": "python3"
  },
  "language_info": {
   "codemirror_mode": {
    "name": "ipython",
    "version": 3
   },
   "file_extension": ".py",
   "mimetype": "text/x-python",
   "name": "python",
   "nbconvert_exporter": "python",
   "pygments_lexer": "ipython3",
   "version": "3.11.5"
  }
 },
 "nbformat": 4,
 "nbformat_minor": 2
}
