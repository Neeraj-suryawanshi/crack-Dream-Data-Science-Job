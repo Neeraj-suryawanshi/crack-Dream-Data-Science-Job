{
 "cells": [
  {
   "cell_type": "markdown",
   "metadata": {},
   "source": [
    "# Quiz 1"
   ]
  },
  {
   "cell_type": "markdown",
   "metadata": {},
   "source": [
    "1. **Which of the following is a feature selection method that selects a subset of features based on their correlation with the target variable?**\n",
    "   - Filter method\n",
    "   - Wrapper method\n",
    "   - Embedded method\n",
    "   - All of the above\n",
    "\n",
    "   **Answer:** Filter method\n",
    "\n",
    "   **Explanation:** The filter method selects a subset of features based on their correlation with the target variable using statistical metrics.\n",
    "\n",
    "2. **Which of the following is a feature selection method that selects a subset of features based on their ability to improve the performance of a given model?**\n",
    "   - Filter method\n",
    "   - Wrapper method\n",
    "   - Embedded method\n",
    "   - None of the above\n",
    "\n",
    "   **Answer:** Wrapper method\n",
    "\n",
    "   **Explanation:** The wrapper method selects features based on their ability to improve the performance of a given model, involving training and testing the model on different feature subsets.\n",
    "\n",
    "3. **Which of the following is a feature selection method that combines feature selection with the model training process?**\n",
    "   - Filter method\n",
    "   - Wrapper method\n",
    "   - Embedded method\n",
    "   - None of the above\n",
    "\n",
    "   **Answer:** Embedded method\n",
    "\n",
    "   **Explanation:** The embedded method integrates feature selection into the model training process, selecting features based on their contribution to the model's performance.\n",
    "\n",
    "4. **Which of the following is a disadvantage of the filter method for feature selection?**\n",
    "   - It is model-specific\n",
    "   - It is computationally expensive\n",
    "   - It does not consider the interactions between features\n",
    "   - It is not based on a statistical metric\n",
    "\n",
    "   **Answer:** It does not consider the interactions between features\n",
    "\n",
    "   **Explanation:** The filter method does not consider interactions between features, potentially leading to the selection of redundant features.\n",
    "\n",
    "5. **Which of the following is an advantage of the wrapper method for feature selection?**\n",
    "   - It is computationally efficient\n",
    "   - It is independent of the model used\n",
    "   - It considers the interactions between features\n",
    "   - It is based on a statistical metric\n",
    "\n",
    "   **Answer:** It considers the interactions between features\n",
    "\n",
    "   **Explanation:** The wrapper method considers feature interactions, leading to the selection of a more optimal feature subset, though it can be computationally expensive.\n",
    "\n",
    "6. **What is the primary difference between the filter method and the wrapper method for feature selection?**\n",
    "   - The filter method is model-specific, while the wrapper method is independent of the model used.\n",
    "   - The filter method selects features based on their correlation with the target variable, while the wrapper method evaluates subsets of features based on their ability to improve model performance.\n",
    "   - The filter method considers the interactions between features, while the wrapper method does not.\n",
    "   - The filter method combines feature selection with the model training process, while the wrapper method does not.\n",
    "\n",
    "   **Explanation:** The primary difference is that the filter method selects features based on their correlation with the target variable, while the wrapper method evaluates subsets based on their ability to improve model performance.\n"
   ]
  }
 ],
 "metadata": {
  "kernelspec": {
   "display_name": "base",
   "language": "python",
   "name": "python3"
  },
  "language_info": {
   "codemirror_mode": {
    "name": "ipython",
    "version": 3
   },
   "file_extension": ".py",
   "mimetype": "text/x-python",
   "name": "python",
   "nbconvert_exporter": "python",
   "pygments_lexer": "ipython3",
   "version": "3.11.5"
  }
 },
 "nbformat": 4,
 "nbformat_minor": 2
}
