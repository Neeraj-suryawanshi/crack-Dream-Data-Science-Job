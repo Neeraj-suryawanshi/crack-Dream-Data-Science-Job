{
 "cells": [
  {
   "cell_type": "markdown",
   "metadata": {},
   "source": [
    "# Day 37\n",
    "\n",
    "\n",
    "# Topics\n",
    "\n",
    " 1.  Feature Selection\n",
    " 2.  Feature Scaling Normalization\n",
    " 3.  Normalization Min Max Scaling\n",
    " 4.  Unit Vectors Feature Scaling\n",
    " 5.  PCA\n",
    "\n",
    "\n"
   ]
  }
 ],
 "metadata": {
  "language_info": {
   "name": "python"
  }
 },
 "nbformat": 4,
 "nbformat_minor": 2
}
