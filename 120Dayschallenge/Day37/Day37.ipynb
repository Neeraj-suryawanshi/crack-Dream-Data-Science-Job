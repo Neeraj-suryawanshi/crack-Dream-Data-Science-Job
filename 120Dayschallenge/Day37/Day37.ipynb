{
 "cells": [
  {
   "cell_type": "markdown",
   "metadata": {},
   "source": [
    "# Day 37\n",
    "\n",
    "# Sorry for posting my daily work late, I am facing issues in the GitHub repository. That's why I posted my task late. Please, everyone, understand me.\n",
    "\n",
    "# Topics\n",
    "\n",
    " 1.  Feature Selection\n",
    " 2.  Feature Scaling Normalization\n",
    " 3.  Normalization Min Max Scaling\n",
    " 4.  Unit Vectors Feature Scaling\n",
    " 5.  PCA\n",
    "\n",
    "\n"
   ]
  }
 ],
 "metadata": {
  "language_info": {
   "name": "python"
  }
 },
 "nbformat": 4,
 "nbformat_minor": 2
}
