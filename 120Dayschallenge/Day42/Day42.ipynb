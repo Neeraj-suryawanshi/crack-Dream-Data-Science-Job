{
 "cells": [
  {
   "cell_type": "markdown",
   "metadata": {},
   "source": [
    "# Day 42\n",
    "\n",
    "# Topics\n",
    "\n",
    " 1. Simple Linear Regression\n",
    " 2. Multiple Linear Regression\n",
    " 3. Polynomial Linear Regression\n",
    "\n",
    " \n",
    " \n",
    "\n",
    "\n",
    "\n",
    "\n"
   ]
  }
 ],
 "metadata": {
  "language_info": {
   "name": "python"
  }
 },
 "nbformat": 4,
 "nbformat_minor": 2
}
