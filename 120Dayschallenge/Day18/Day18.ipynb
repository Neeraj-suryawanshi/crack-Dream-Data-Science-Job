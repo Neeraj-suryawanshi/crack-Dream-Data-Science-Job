{
 "cells": [
  {
   "cell_type": "markdown",
   "metadata": {},
   "source": [
    "# Day 17\n",
    "\n",
    "# Topics\n",
    "\n",
    " 1.  Flask Introduction\n",
    " 2.  Application\n",
    " 3.  Open Link Flask \n",
    " 4.  App Routing Flask \n",
    " 5.  Url Building Flask\n"
   ]
  },
  {
   "cell_type": "markdown",
   "metadata": {},
   "source": []
  }
 ],
 "metadata": {
  "language_info": {
   "name": "python"
  }
 },
 "nbformat": 4,
 "nbformat_minor": 2
}
