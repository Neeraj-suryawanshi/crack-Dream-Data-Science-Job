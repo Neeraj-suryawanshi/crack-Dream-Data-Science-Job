{
 "cells": [
  {
   "cell_type": "markdown",
   "metadata": {},
   "source": [
    "# Day 23\n",
    "\n",
    "# Topics\n",
    "\n",
    " 1.  Numpy Part-1\n",
    " 2.  Numpy Part-2\n",
    " 3.  Numpy Part-3\n",
    " \n",
    "\n",
    " "
   ]
  }
 ],
 "metadata": {
  "language_info": {
   "name": "python"
  }
 },
 "nbformat": 4,
 "nbformat_minor": 2
}
