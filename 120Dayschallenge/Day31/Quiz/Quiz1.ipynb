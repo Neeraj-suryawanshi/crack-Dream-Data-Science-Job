{
 "cells": [
  {
   "cell_type": "markdown",
   "metadata": {},
   "source": [
    "# Quiz 1"
   ]
  },
  {
   "cell_type": "markdown",
   "metadata": {},
   "source": [
    "1. **What is the main difference between t-tests and z-tests?**\n",
    "   - T-tests require a larger sample size than z-tests\n",
    "   - T-tests assume a known population variance while z-tests assume an unknown population variance\n",
    "   - Z-tests require a smaller sample size than t-tests\n",
    "   - Z-tests are used for testing two population means while t-tests are used for testing one population mean\n",
    "\n",
    "   **Answer:** T-tests assume a known population variance while z-tests assume an unknown population variance\n",
    "\n",
    "   **Explanation:** T-tests are used when the sample size is small and/or the population variance is unknown, while z-tests are used when the sample size is large and/or the population variance is known.\n",
    "\n",
    "2. **In hypothesis testing, what is a Type 1 error?**\n",
    "   - Rejecting a true null hypothesis\n",
    "   - Failing to reject a false null hypothesis\n",
    "   - Rejecting a false alternative hypothesis\n",
    "   - Failing to reject a true alternative hypothesis\n",
    "\n",
    "   **Answer:** Rejecting a true null hypothesis\n",
    "\n",
    "   **Explanation:** A Type 1 error occurs when we reject the null hypothesis when it is actually true. The probability of making a Type 1 error is denoted by alpha and is typically set at 0.05 or 0.01.\n",
    "\n",
    "3. **What is the margin of error in a confidence interval?**\n",
    "   - The width of the confidence interval\n",
    "   - The maximum amount a point estimate can be off from the true population parameter\n",
    "   - The probability of making a Type 1 error\n",
    "   - The probability of making a Type 2 error\n",
    "\n",
    "   **Answer:** The maximum amount a point estimate can be off from the true population parameter\n",
    "\n",
    "   **Explanation:** The margin of error is a measure of the precision of a point estimate, indicating the maximum amount it could be off from the true population parameter, with a certain level of confidence.\n",
    "\n",
    "4. **A researcher wants to compare the mean weight of two different groups of mice. One group has a sample size of 25 and the other group has a sample size of 50. Which test should the researcher use to compare the means?**\n",
    "   - T-test\n",
    "   - Z-test\n",
    "   - Both tests can be used\n",
    "   - Neither test can be used\n",
    "\n",
    "   **Answer:** T-test\n",
    "\n",
    "   **Explanation:** When comparing means of two independent groups, a t-test should be used if the sample sizes are small or the population variance is unknown. In this case, the sample sizes are not very large, so a t-test would be appropriate.\n",
    "\n",
    "5. **A researcher wants to estimate the probability of a hypothesis based on new evidence. Which statistical tool should they use?**\n",
    "   - T-test\n",
    "   - Z-test\n",
    "   - Bayes theorem\n",
    "   - Confidence interval\n",
    "\n",
    "   **Answer:** Bayes theorem\n",
    "\n",
    "   **Explanation:** Bayes theorem is used in Bayesian statistics to update our prior beliefs about a hypothesis based on new data or evidence, allowing us to make more accurate probability predictions.\n",
    "\n",
    "6. **A confidence interval is calculated for a sample mean with a sample size of 100 and a standard deviation of 10. The 95% confidence interval is found to be between 25 and 30. What is the margin of error?**\n",
    "   - 2.5\n",
    "   - 5\n",
    "   - 7.5\n",
    "   - 10\n",
    "\n",
    "   **Answer:**  5\n",
    "\n",
    "   **Explanation:** The margin of error is calculated as half the width of the confidence interval, which is (30-25)/2 = 2.5. Therefore, the margin of error is 5.\n",
    "\n",
    "7. **A researcher wants to compare the mean height of two different groups of plants. One group has a sample size of 15 and the other group has a sample size of 20. The population variance is known to be 9. Which test should the researcher use to compare the means?**\n",
    "   - T-test\n",
    "   - Z-test\n",
    "   - Both tests can be used\n",
    "   - Neither test can be used\n",
    "\n",
    "   **Answer:** Z-test\n",
    "\n",
    "   **Explanation:** When the population variance is known and the sample sizes are sufficiently large, a z-test can be used to compare means of two independent groups. In this case, the population variance is known and the sample sizes are not very small, so a z-test would be appropriate.\n"
   ]
  }
 ],
 "metadata": {
  "kernelspec": {
   "display_name": "base",
   "language": "python",
   "name": "python3"
  },
  "language_info": {
   "codemirror_mode": {
    "name": "ipython",
    "version": 3
   },
   "file_extension": ".py",
   "mimetype": "text/x-python",
   "name": "python",
   "nbconvert_exporter": "python",
   "pygments_lexer": "ipython3",
   "version": "3.11.5"
  }
 },
 "nbformat": 4,
 "nbformat_minor": 2
}
