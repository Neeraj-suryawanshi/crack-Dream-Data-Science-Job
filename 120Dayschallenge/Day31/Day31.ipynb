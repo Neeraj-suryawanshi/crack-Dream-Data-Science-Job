{
 "cells": [
  {
   "cell_type": "markdown",
   "metadata": {},
   "source": [
    "# Day 31\n",
    "\n",
    "# Topics\n",
    "\n",
    " 1.  When to use T test vs Z test\n",
    " 2.  Type 1 Type 2 Error\n",
    " 3.  Confidence Interval Margin of Error\n",
    " 4.  Bayes Theorem\n",
    " \n",
    "\n",
    "\n",
    " \n",
    "\n",
    " "
   ]
  }
 ],
 "metadata": {
  "language_info": {
   "name": "python"
  }
 },
 "nbformat": 4,
 "nbformat_minor": 2
}
