{
 "cells": [
  {
   "cell_type": "markdown",
   "metadata": {},
   "source": [
    "# Quiz 1"
   ]
  },
  {
   "cell_type": "markdown",
   "metadata": {},
   "source": [
    "1. **How do you handle missing values in a Pandas Series in Python?**\n",
    "   - By using arithmetic operators or functions.\n",
    "   - By using functions like fillna(), dropna(), etc.\n",
    "   - By using modules.\n",
    "   - None of the above.\n",
    "\n",
    "   **Answer:** By using functions like fillna(), dropna(), etc.\n",
    "\n",
    "   **Explanation:** In a Pandas Series, missing values are represented as NaN (Not a Number). You can handle missing values by using functions like fillna(), dropna(), etc. For example, you can fill missing values with a specific value or drop missing values altogether.\n",
    "\n",
    "2. **What is a Pandas Series in Python?**\n",
    "   - A one-dimensional labeled array capable of holding any data type.\n",
    "   - By passing a list, dictionary, or scalar value to the Series() method of the Pandas library.\n",
    "   - By using arithmetic operators or functions.\n",
    "   - None of the above.\n",
    "\n",
    "   **Answer:** A one-dimensional labeled array capable of holding any data type.\n",
    "\n",
    "   **Explanation:** A Pandas Series is a one-dimensional labeled array that can hold any data type, including numerical, string, or even mixed data. It can be created from a list, dictionary, or scalar value and has a label associated with each element, which is known as the index.\n",
    "\n",
    "3. **What is the Pandas Panel in Python?**\n",
    "   - It is a multi-dimensional array data structure used to store and manipulate data in a way that is easy and efficient.\n",
    "   - It is a one-dimensional array data structure.\n",
    "   - Fasten the Strips with Screw Anchors.\n",
    "   - None of the above.\n",
    "\n",
    "   **Answer:** It is a multi-dimensional array data structure used to store and manipulate data in a way that is easy and efficient.\n",
    "\n",
    "   **Explanation:** A Panel is a 3-dimensional data structure in Pandas, allowing you to store and manipulate data in a grid-like format. It is a container for multiple DataFrames, each of which can have different dimensions and can store different data types. This makes it an ideal structure for holding multi-dimensional data, such as financial data or survey results.\n",
    "\n",
    "4. **How do you create a Pandas Panel in Python?**\n",
    "   - Best operator device type.\n",
    "   - By using the pandas.\n",
    "   - By using the pandas.Panel constructor.\n",
    "   - All of the above.\n",
    "\n",
    "   **Answer:** By using the pandas.Panel constructor.\n",
    "\n",
    "   **Explanation:** To create a Pandas Panel in Python, you can use the pandas.Panel() constructor, passing in a data source such as a numpy array or a dict of DataFrames. You can also specify the axis labels and item labels to help organize your data. Once you have created a Panel, you can use various methods to manipulate and analyze the data, such as indexing, slicing, and aggregating.\n",
    "**Question 5**\n",
    "\n",
    "* **What is the result of the following code?**\n",
    "\n",
    "```python\n",
    "import pandas as pd\n",
    "\n",
    "data = {'Name': ['John', 'Jane', 'Jim', 'Joan'],\n",
    "\n",
    "        'Age': [25, 30, 35, 40],\n",
    "\n",
    "        'Occupation': ['Engineer', 'Doctor', 'Teacher', 'Lawyer']}\n",
    "\n",
    "df = pd.DataFrame(data)\n",
    "\n",
    "print(df.loc[0])\n",
    "\n",
    "```\n",
    "**Options:**\n",
    "\n",
    "* Name: John, Age: 25, Occupation: Engineer\n",
    "* Name: John, Age: 25\n",
    "* John 25 Engineer\n",
    "* none of the above\n",
    "\n",
    "**Answer:** Name: John, Age: 25, Occupation: Engineer\n",
    "\n",
    "**Explanation:** The loc accessor of the DataFrame is used to access a row in the DataFrame by its index label. In this case, the code is accessing the row with index label 0, which returns the first row of the DataFrame with the values of each column for that row."
   ]
  }
 ],
 "metadata": {
  "kernelspec": {
   "display_name": "base",
   "language": "python",
   "name": "python3"
  },
  "language_info": {
   "codemirror_mode": {
    "name": "ipython",
    "version": 3
   },
   "file_extension": ".py",
   "mimetype": "text/x-python",
   "name": "python",
   "nbconvert_exporter": "python",
   "pygments_lexer": "ipython3",
   "version": "3.11.5"
  }
 },
 "nbformat": 4,
 "nbformat_minor": 2
}
