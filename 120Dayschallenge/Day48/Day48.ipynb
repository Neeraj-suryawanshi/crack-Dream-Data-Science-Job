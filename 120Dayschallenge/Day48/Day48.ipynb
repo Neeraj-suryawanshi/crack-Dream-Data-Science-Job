{
 "cells": [
  {
   "cell_type": "markdown",
   "metadata": {},
   "source": [
    "# Day 48\n",
    "\n",
    "# Topics : \n",
    "\n",
    " 1. Logistic Regression Indepth Intuition\n",
    " 2. Logistic Regression with Regularization\n",
    " 3. Performance Metrics Confusion Matrix, Accuracy, Precision Recall\n",
    " 4. END-To-END Diabetes Prediction Project using Machine Learning\n",
    "\n",
    "\n",
    " \n",
    " \n",
    "\n",
    "\n",
    "\n",
    "\n"
   ]
  }
 ],
 "metadata": {
  "language_info": {
   "name": "python"
  }
 },
 "nbformat": 4,
 "nbformat_minor": 2
}
