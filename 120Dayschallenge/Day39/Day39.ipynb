{
 "cells": [
  {
   "cell_type": "markdown",
   "metadata": {},
   "source": [
    "# Day 39\n",
    "\n",
    "# Topics\n",
    "\n",
    " 1. Covariance And Correlation\n",
    " 2. Covariance And Correlation with Python\n",
    "\n",
    "\n",
    "\n",
    "\n"
   ]
  }
 ],
 "metadata": {
  "language_info": {
   "name": "python"
  }
 },
 "nbformat": 4,
 "nbformat_minor": 2
}
