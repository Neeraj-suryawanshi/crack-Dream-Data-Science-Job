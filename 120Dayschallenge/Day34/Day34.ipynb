{
 "cells": [
  {
   "cell_type": "markdown",
   "metadata": {},
   "source": [
    "# Day 34\n",
    "\n",
    "\n",
    "# Topics\n",
    "\n",
    " 1.  Anova.\n",
    " 2.  Assumption in Anova.\n",
    " 3.  Types of Anava.\n",
    " 4.  partition of variance in Anava.\n",
    "\n",
    " \n"
   ]
  }
 ],
 "metadata": {
  "language_info": {
   "name": "python"
  }
 },
 "nbformat": 4,
 "nbformat_minor": 2
}
