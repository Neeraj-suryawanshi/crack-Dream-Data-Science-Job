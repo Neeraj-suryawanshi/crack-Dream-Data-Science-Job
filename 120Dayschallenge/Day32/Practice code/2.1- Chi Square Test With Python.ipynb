{
 "cells": [
  {
   "cell_type": "markdown",
   "id": "c68fecf8-a73f-4fbd-978f-d75de56625fe",
   "metadata": {},
   "source": [
    "## Chi Square Test With Python"
   ]
  },
  {
   "cell_type": "code",
   "execution_count": 3,
   "id": "53f2f5ea-cfeb-4c8f-9557-5ee5b76d8dae",
   "metadata": {},
   "outputs": [],
   "source": [
    "import scipy.stats as stat\n",
    "import numpy as np"
   ]
  },
  {
   "cell_type": "code",
   "execution_count": 4,
   "id": "8afde734-19ce-4814-b232-2dfb5fb3d000",
   "metadata": {},
   "outputs": [],
   "source": [
    "## No of hours student study in a weekly basis daily\n",
    "##monday,tuesday,Wednesday,thursday,Friday,Saturday,sunday\n",
    "expected_data=[8,6,7,9,6,9,7]\n",
    "observed_data=[7,8,6,9,9,6,7]"
   ]
  },
  {
   "cell_type": "code",
   "execution_count": 5,
   "id": "d9f99133-b67b-44ab-95a4-d73f1485085e",
   "metadata": {},
   "outputs": [
    {
     "data": {
      "text/plain": [
       "(52, 52)"
      ]
     },
     "execution_count": 5,
     "metadata": {},
     "output_type": "execute_result"
    }
   ],
   "source": [
    "sum(expected_data),sum(observed_data)"
   ]
  },
  {
   "cell_type": "code",
   "execution_count": 6,
   "id": "0877666b-699f-4265-8994-501d07d7575a",
   "metadata": {},
   "outputs": [],
   "source": [
    "## Chi-Square Goodness Of Fit Test\n",
    "chisquare_test_statistic,p_value=stat.chisquare(observed_data,expected_data)"
   ]
  },
  {
   "cell_type": "code",
   "execution_count": 7,
   "id": "8b621eeb-1c1a-4d30-9745-e7fdc9e8519d",
   "metadata": {},
   "outputs": [
    {
     "data": {
      "text/plain": [
       "(3.4345238095238093, 0.7526596580922865)"
      ]
     },
     "execution_count": 7,
     "metadata": {},
     "output_type": "execute_result"
    }
   ],
   "source": [
    "chisquare_test_statistic,p_value"
   ]
  },
  {
   "cell_type": "code",
   "execution_count": 8,
   "id": "699dc7b0-0150-4b8c-a7e7-8c2112be2f2c",
   "metadata": {},
   "outputs": [
    {
     "name": "stdout",
     "output_type": "stream",
     "text": [
      "6\n"
     ]
    }
   ],
   "source": [
    "## find the critical value\n",
    "significane_value=0.05\n",
    "dof=len(expected_data)-1\n",
    "print(dof)\n",
    "critical_value=stat.chi2.ppf(1-significane_value,dof)"
   ]
  },
  {
   "cell_type": "code",
   "execution_count": 9,
   "id": "aa233891-d7be-4e41-b539-86e7bdeab8aa",
   "metadata": {},
   "outputs": [
    {
     "data": {
      "text/plain": [
       "12.591587243743977"
      ]
     },
     "execution_count": 9,
     "metadata": {},
     "output_type": "execute_result"
    }
   ],
   "source": [
    "critical_value"
   ]
  },
  {
   "cell_type": "code",
   "execution_count": 10,
   "id": "e54e9d32-bed9-4189-bc15-d632ee1c6946",
   "metadata": {},
   "outputs": [
    {
     "name": "stdout",
     "output_type": "stream",
     "text": [
      "Accept the null hypothesis\n"
     ]
    }
   ],
   "source": [
    "if chisquare_test_statistic > critical_value:\n",
    "    print(\"Reject the null hypothesis\")\n",
    "else:\n",
    "    print(\"Accept the null hypothesis\")"
   ]
  }
 ],
 "metadata": {
  "kernelspec": {
   "display_name": "Python 3 (ipykernel)",
   "language": "python",
   "name": "python3"
  },
  "language_info": {
   "codemirror_mode": {
    "name": "ipython",
    "version": 3
   },
   "file_extension": ".py",
   "mimetype": "text/x-python",
   "name": "python",
   "nbconvert_exporter": "python",
   "pygments_lexer": "ipython3",
   "version": "3.11.5"
  }
 },
 "nbformat": 4,
 "nbformat_minor": 5
}
