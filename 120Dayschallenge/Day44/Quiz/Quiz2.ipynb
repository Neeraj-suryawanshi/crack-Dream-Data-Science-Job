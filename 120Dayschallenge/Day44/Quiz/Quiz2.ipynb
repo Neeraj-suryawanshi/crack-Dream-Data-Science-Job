{
 "cells": [
  {
   "cell_type": "markdown",
   "metadata": {},
   "source": [
    "# Quiz 2"
   ]
  },
  {
   "cell_type": "markdown",
   "metadata": {},
   "source": [
    "### 1. What is Lasso Regression?\n",
    "\n",
    "- A linear regression model that uses regularization\n",
    "- A non-linear regression model\n",
    "- A model that fits a polynomial curve to the data\n",
    "- A model that uses decision trees to predict outcomes\n",
    "\n",
    "**Answer:** A linear regression model that uses regularization\n",
    "\n",
    "**Explanation:** Lasso Regression is a linear regression model that uses regularization to prevent overfitting. It adds a penalty term to the cost function based on the L1 norm of the model coefficients, encouraging the model to use fewer features.\n",
    "\n",
    "### 2. What is the purpose of Lasso Regression?\n",
    "\n",
    "- To maximize the R-squared value of the model\n",
    "- To minimize the mean squared error of the model\n",
    "- To prevent overfitting in the model\n",
    "- To fit a polynomial curve to the data\n",
    "\n",
    "**Answer:** To prevent overfitting in the model\n",
    "\n",
    "**Explanation:** The purpose of Lasso Regression is to prevent overfitting in the model by adding a penalty term to the cost function that encourages the model to use fewer features.\n",
    "\n",
    "### 3. Which of the following is a hyperparameter of Lasso Regression?\n",
    "\n",
    "- Learning rate\n",
    "- Regularization parameter\n",
    "- Number of iterations\n",
    "- Number of hidden layers\n",
    "\n",
    "**Answer:** Regularization parameter\n",
    "\n",
    "**Explanation:** The regularization parameter is a hyperparameter of Lasso Regression that controls the strength of the regularization penalty. It determines the amount of shrinkage applied to the coefficients.\n",
    "\n",
    "### 4. Which of the following is an advantage of Lasso Regression?\n",
    "\n",
    "- It can handle non-linear relationships between features and the target variable\n",
    "- It can handle missing values in the data\n",
    "- It can select the most important features in the model\n",
    "- It is computationally less expensive than other regression models\n",
    "\n",
    "**Answer:** It can select the most important features in the model\n",
    "\n",
    "**Explanation:** Lasso Regression can select the most important features in the model by shrinking the coefficients of less important features towards zero, thus simplifying the model and reducing the risk of overfitting.\n",
    "\n",
    "### 5. Which of the following is a disadvantage of Lasso Regression?\n",
    "\n",
    "- It can only be used for linear regression problems\n",
    "- It is sensitive to the scale of the features\n",
    "- It is prone to underfitting\n",
    "- It can handle missing values in the data\n",
    "\n",
    "**Answer:** It is sensitive to the scale of the features\n",
    "\n",
    "**Explanation:** Lasso Regression is sensitive to the scale of the features, which means it can give different importance to features based on their scale. Feature scaling is recommended to mitigate this issue.\n",
    "\n",
    "### 6. Which of the following is the penalty term used in Lasso Regression?\n",
    "\n",
    "- L1 norm of the model coefficients\n",
    "- L2 norm of the model coefficients\n",
    "- Absolute difference between the predicted and actual values\n",
    "- Square of the difference between the predicted and actual values\n",
    "\n",
    "**Answer:** L1 norm of the model coefficients\n",
    "\n",
    "**Explanation:** The penalty term used in Lasso Regression is based on the L1 norm of the model coefficients, encouraging sparsity in the coefficient vector and thereby selecting fewer features.\n"
   ]
  }
 ],
 "metadata": {
  "kernelspec": {
   "display_name": "base",
   "language": "python",
   "name": "python3"
  },
  "language_info": {
   "codemirror_mode": {
    "name": "ipython",
    "version": 3
   },
   "file_extension": ".py",
   "mimetype": "text/x-python",
   "name": "python",
   "nbconvert_exporter": "python",
   "pygments_lexer": "ipython3",
   "version": "3.11.5"
  }
 },
 "nbformat": 4,
 "nbformat_minor": 2
}
