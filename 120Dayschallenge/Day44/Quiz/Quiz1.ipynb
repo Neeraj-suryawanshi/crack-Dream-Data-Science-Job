{
 "cells": [
  {
   "cell_type": "markdown",
   "metadata": {},
   "source": [
    "# Quiz 1"
   ]
  },
  {
   "cell_type": "markdown",
   "metadata": {},
   "source": [
    "### 1. What is the purpose of Ridge Regression?\n",
    "\n",
    "- To minimize the sum of squared residuals\n",
    "- To eliminate multicollinearity in the dataset\n",
    "- To identify the most important predictors\n",
    "- To maximize the accuracy of the model\n",
    "\n",
    "**Answer:** To eliminate multicollinearity in the dataset\n",
    "\n",
    "**Explanation:** Ridge Regression is used to eliminate multicollinearity, which occurs when two or more predictors in a dataset are highly correlated with each other. This can cause issues in linear regression models, such as unstable coefficients or overfitting. Ridge Regression adds a penalty term to the cost function that shrinks the coefficients towards zero, reducing the impact of multicollinearity.\n",
    "\n",
    "### 2. How does Ridge Regression differ from ordinary least squares (OLS) regression?\n",
    "\n",
    "- Ridge Regression adds a penalty term to the cost function\n",
    "- OLS regression uses a regularization technique\n",
    "- Ridge Regression does not account for multicollinearity\n",
    "- OLS regression shrinks coefficients towards zero\n",
    "\n",
    "**Answer:** Ridge Regression adds a penalty term to the cost function\n",
    "\n",
    "**Explanation:** Ridge Regression adds a penalty term to the cost function to shrink the coefficients towards zero, whereas OLS regression does not include any regularization techniques. The purpose of the penalty term is to reduce the impact of multicollinearity in the dataset.\n",
    "\n",
    "### 3. In Ridge Regression, what is the value of the penalty term lambda (λ) used for?\n",
    "\n",
    "- To increase the accuracy of the model\n",
    "- To decrease the complexity of the model\n",
    "- To control the amount of shrinkage applied to the coefficients\n",
    "- To select the most important predictors\n",
    "\n",
    "**Answer:** To control the amount of shrinkage applied to the coefficients\n",
    "\n",
    "**Explanation:** The value of the penalty term lambda (λ) in Ridge Regression is used to control the amount of shrinkage applied to the coefficients. A larger value of lambda results in greater shrinkage and a simpler model, while a smaller value of lambda results in less shrinkage and a more complex model.\n",
    "\n",
    "### 4. What is the main advantage of Ridge Regression?\n",
    "\n",
    "- It reduces the complexity of the model\n",
    "- It eliminates multicollinearity in the dataset\n",
    "- It selects the most important predictors\n",
    "- It increases the accuracy of the model\n",
    "\n",
    "**Answer:** It eliminates multicollinearity in the dataset\n",
    "\n",
    "**Explanation:** The main advantage of Ridge Regression is that it eliminates multicollinearity in the dataset, which can cause issues in linear regression models. By adding a penalty term to the cost function, Ridge Regression reduces the impact of multicollinearity and produces more stable and reliable coefficients.\n",
    "\n",
    "### 5. How does Ridge Regression affect the coefficients of the predictors in the dataset?\n",
    "\n",
    "- It increases the magnitude of the coefficients\n",
    "- It decreases the magnitude of the coefficients\n",
    "- It does not affect the magnitude of the coefficients\n",
    "- It sets the coefficients to zero\n",
    "\n",
    "**Answer:** It decreases the magnitude of the coefficients\n",
    "\n",
    "**Explanation:** Ridge Regression shrinks the coefficients towards zero by adding a penalty term to the cost function. This reduces the magnitude of the coefficients and helps to prevent overfitting in the model.\n"
   ]
  },
  {
   "cell_type": "markdown",
   "metadata": {},
   "source": []
  }
 ],
 "metadata": {
  "kernelspec": {
   "display_name": "base",
   "language": "python",
   "name": "python3"
  },
  "language_info": {
   "codemirror_mode": {
    "name": "ipython",
    "version": 3
   },
   "file_extension": ".py",
   "mimetype": "text/x-python",
   "name": "python",
   "nbconvert_exporter": "python",
   "pygments_lexer": "ipython3",
   "version": "3.11.5"
  }
 },
 "nbformat": 4,
 "nbformat_minor": 2
}
