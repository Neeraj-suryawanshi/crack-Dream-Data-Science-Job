{
 "cells": [
  {
   "cell_type": "markdown",
   "metadata": {},
   "source": [
    "# Quiz 2"
   ]
  },
  {
   "cell_type": "markdown",
   "metadata": {},
   "source": [
    "### 1. How would you create a histogram in seaborn?\n",
    "\n",
    "- sns.hist(data)\n",
    "- sns.histogram(data)\n",
    "- sns.histograms(data)\n",
    "- sns.histplot(data)\n",
    "\n",
    "**Answer:** sns.histplot(data)\n",
    "\n",
    "**Explanation:** To create a histogram in Seaborn, you can use the `sns.histplot()` function. This function takes in the data you want to plot and allows you to specify various parameters to customize the plot.\n",
    "\n",
    "### 2. How would you create a scatter plot in seaborn?\n",
    "\n",
    "- sns.scatter(x, y)\n",
    "- sns.scatterplot(x, y)\n",
    "- sns.scatterplots(x, y)\n",
    "- sns.scatter_plot(x, y)\n",
    "\n",
    "**Answer:** sns.scatterplot(x, y)\n",
    "\n",
    "**Explanation:** The `sns.scatterplot` function in Seaborn is used to create a scatter plot. The x and y values are passed as arguments to the function, as in `sns.scatterplot(x, y)`.\n",
    "\n",
    "### 3. How would you create a bar plot in seaborn?\n",
    "\n",
    "- sns.bar(x, y)\n",
    "- sns.barplot(x, y)\n",
    "- sns.barplots(x, y)\n",
    "- sns.bar_plot(x, y)\n",
    "\n",
    "**Answer:** sns.barplot(x, y)\n",
    "\n",
    "**Explanation:** The `sns.barplot` function in Seaborn is used to create a bar plot. The x and y values are passed as arguments to the function, as in `sns.barplot(x, y)`.\n",
    "\n",
    "### 4. How would you create a box plot in seaborn?\n",
    "\n",
    "- sns.box(data)\n",
    "- sns.boxplot(data)\n",
    "- sns.boxplots(data)\n",
    "- sns.box_plot(data)\n",
    "\n",
    "**Answer:** sns.boxplot(data)\n",
    "\n",
    "**Explanation:** The `sns.boxplot` function in Seaborn is used to create a box plot. The data to be plotted is passed as an argument to the function, as in `sns.boxplot(data)`.\n",
    "\n",
    "### 5. How would you create a violin plot in seaborn?\n",
    "\n",
    "- sns.violin(data)\n",
    "- sns.violinplot(data)\n",
    "- sns.violinplots(data)\n",
    "- sns.violin_plot(data)\n",
    "\n",
    "**Answer:** sns.violinplot(data)\n",
    "\n",
    "**Explanation:** The `sns.violinplot` function in Seaborn is used to create a violin plot. The data to be plotted is passed as an argument to the function, as in `sns.violinplot(data)`.\n",
    "\n",
    "### 6. How would you create a line plot in seaborn?\n",
    "\n",
    "- sns.line(x, y)\n",
    "- sns.lineplot(x, y)\n",
    "- sns.lineplots(x, y)\n",
    "- sns.line_plot(x, y)\n",
    "\n",
    "**Answer:** sns.lineplot(x, y)\n",
    "\n",
    "**Explanation:** The `sns.lineplot` function in Seaborn is used to create a line plot. The x and y values are passed as arguments to the function, as in `sns.lineplot(x, y)`.\n",
    "\n",
    "### 7. How would you create a kde plot in seaborn?\n",
    "\n",
    "- sns.kde(data)\n",
    "- sns.kdeplot(data)\n",
    "- sns.kdeplots(data)\n",
    "- sns.kde_plot(data)\n",
    "\n",
    "**Answer:** sns.kdeplot(data)\n",
    "\n",
    "**Explanation:** The `sns.kdeplot` function in Seaborn is used to create a kernel density estimation (kde) plot. The data to be plotted is passed as an argument to the function, as in `sns.kdeplot(data)`.\n"
   ]
  },
  {
   "cell_type": "markdown",
   "metadata": {},
   "source": []
  }
 ],
 "metadata": {
  "kernelspec": {
   "display_name": "base",
   "language": "python",
   "name": "python3"
  },
  "language_info": {
   "codemirror_mode": {
    "name": "ipython",
    "version": 3
   },
   "file_extension": ".py",
   "mimetype": "text/x-python",
   "name": "python",
   "nbconvert_exporter": "python",
   "pygments_lexer": "ipython3",
   "version": "3.11.5"
  }
 },
 "nbformat": 4,
 "nbformat_minor": 2
}
