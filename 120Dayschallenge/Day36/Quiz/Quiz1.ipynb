{
 "cells": [
  {
   "cell_type": "markdown",
   "metadata": {},
   "source": [
    "# Quiz 1"
   ]
  },
  {
   "cell_type": "markdown",
   "metadata": {},
   "source": [
    "1. **What is overfitting in machine learning?**\n",
    "   - When the model fits the training data too well and performs poorly on new data\n",
    "   - When the model fits the training data poorly and performs well on new data\n",
    "   - When the model performs equally well on training and new data\n",
    "   - None of the above\n",
    "\n",
    "   **Answer:** When the model fits the training data too well and performs poorly on new data\n",
    "\n",
    "   **Explanation:** Overfitting occurs when a machine learning model is too complex and fits the noise or random fluctuations in the training data, performing poorly on new or unseen data.\n",
    "\n",
    "2. **What is underfitting in machine learning?**\n",
    "   - When the model fits the training data too well and performs poorly on new data\n",
    "   - When the model fits the training data poorly and performs well on new data\n",
    "   - When the model performs equally well on training and new data\n",
    "   - None of the above\n",
    "\n",
    "   **Answer:** When the model fits the training data poorly and performs well on new data\n",
    "\n",
    "   **Explanation:** Underfitting occurs when a machine learning model is too simple and cannot capture the underlying patterns in the training data, performing poorly on both training and new data.\n",
    "\n",
    "3. **What is the difference between overfitting and underfitting?**\n",
    "   - Overfitting occurs when the model fits the training data too well, while underfitting occurs when the model fits the training data poorly\n",
    "   - Overfitting occurs when the model fits the training data poorly, while underfitting occurs when the model fits the training data too well\n",
    "   - Overfitting and underfitting are the same thing\n",
    "   - None of the above\n",
    "\n",
    "   **Answer:** Overfitting occurs when the model fits the training data too well, while underfitting occurs when the model fits the training data poorly\n",
    "\n",
    "   **Explanation:** Overfitting and underfitting are two common problems in machine learning with opposite characteristics.\n",
    "\n",
    "4. **What is bias in machine learning?**\n",
    "   - The difference between the predicted values and the actual values\n",
    "   - The tendency of the model to make systematic errors\n",
    "   - The tendency of the model to make random errors\n",
    "   - None of the above\n",
    "\n",
    "   **Answer:** The tendency of the model to make systematic errors\n",
    "\n",
    "   **Explanation:** Bias is the tendency of a machine learning model to make consistent or systematic errors, even when trained on large amounts of data.\n",
    "\n",
    "5. **What is variance in machine learning?**\n",
    "   - The difference between the predicted values and the actual values\n",
    "   - The tendency of the model to make systematic errors\n",
    "   - The tendency of the model to make random errors\n",
    "   - None of the above\n",
    "\n",
    "   **Answer:** The tendency of the model to make random errors\n",
    "\n",
    "   **Explanation:** Variance is the tendency of a machine learning model to make random errors or noise, even when trained on large amounts of data.\n",
    "\n",
    "6. **A machine learning model is trained on a dataset of 1000 images of cats and dogs. The model achieves 95% accuracy on the training set, but only 75% accuracy on a validation set of 500 images. What is the most likely problem with the model?**\n",
    "   - Overfitting\n",
    "   - Underfitting\n",
    "   - High bias\n",
    "   - High variance\n",
    "\n",
    "   **Answer:** Overfitting\n",
    "\n",
    "   **Explanation:** The high accuracy on the training set but lower accuracy on the validation set indicates overfitting, where the model does not generalize well to new data.\n",
    "\n",
    "7. **A machine learning model is trained on a dataset of 1000 images of cats and dogs. The model achieves 90% accuracy on the training set and 85% accuracy on a validation set of 500 images. What is the most likely problem with the model?**\n",
    "   - Overfitting\n",
    "   - Underfitting\n",
    "   - High bias\n",
    "   - High variance\n",
    "\n",
    "   **Answer:** High variance\n",
    "\n",
    "   **Explanation:** The model's lower accuracy on the validation set suggests it may be too complex and fitting noise in the training data, indicating high variance.\n"
   ]
  },
  {
   "cell_type": "markdown",
   "metadata": {},
   "source": []
  }
 ],
 "metadata": {
  "kernelspec": {
   "display_name": "base",
   "language": "python",
   "name": "python3"
  },
  "language_info": {
   "codemirror_mode": {
    "name": "ipython",
    "version": 3
   },
   "file_extension": ".py",
   "mimetype": "text/x-python",
   "name": "python",
   "nbconvert_exporter": "python",
   "pygments_lexer": "ipython3",
   "version": "3.11.5"
  }
 },
 "nbformat": 4,
 "nbformat_minor": 2
}
