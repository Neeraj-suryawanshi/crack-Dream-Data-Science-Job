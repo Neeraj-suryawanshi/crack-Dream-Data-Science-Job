{
 "cells": [
  {
   "cell_type": "markdown",
   "metadata": {},
   "source": [
    "# Day 36\n",
    "\n",
    "\n",
    "# Topics\n",
    "\n",
    " 1.  Variance, Bias, Overfitting Underfitting\n",
    " 2.  Handling Missing Values\n",
    " 3.  Handling Imbalanced Dataset\n",
    " 4.  SMOTE (Synthetic Minority Oversampling Technique)\n",
    " 5.  Data Interpolation\n",
    " 6.  Handling Outliers\n",
    "\n"
   ]
  }
 ],
 "metadata": {
  "language_info": {
   "name": "python"
  }
 },
 "nbformat": 4,
 "nbformat_minor": 2
}
